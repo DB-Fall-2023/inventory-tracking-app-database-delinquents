{
 "cells": [
  {
   "cell_type": "code",
   "execution_count": 9,
   "id": "initial_id",
   "metadata": {
    "ExecuteTime": {
     "end_time": "2023-12-08T22:16:42.002537300Z",
     "start_time": "2023-12-08T22:16:41.993035100Z"
    },
    "collapsed": true
   },
   "outputs": [
    {
     "data": {
      "text/html": [
       "\n",
       "    <div style=\"background-color: #5b7bd4; font-family: Roboto; color: black; padding: 10px; text-align: center;\">\n",
       "        <h2 style=\"margin: 0; display: flex; flex-direction: column; align-items: center;\">Top 10 Warehouses with the Most Racks</h2>\n",
       "    </div>\n"
      ],
      "text/plain": [
       "<IPython.core.display.HTML object>"
      ]
     },
     "metadata": {},
     "output_type": "display_data"
    }
   ],
   "source": [
    "import requests\n",
    "from IPython.display import display, HTML"
   ]
  },
  {
   "cell_type": "code",
   "execution_count": 12,
   "id": "ba209ea4bf4d8ec2",
   "metadata": {
    "ExecuteTime": {
     "end_time": "2023-12-08T22:33:48.505298300Z",
     "start_time": "2023-12-08T22:33:47.822729500Z"
    },
    "collapsed": false
   },
   "outputs": [
    {
     "data": {
      "text/html": [
       "<div style=\"display: grid; grid-template-columns: repeat(5, 1fr); gap: 20px;\">\n",
       "        <div style=\"border: 1px solid black; padding: 10px; margin: 10px; display: inline-block; justify-content: center;\">\n",
       "            <h3>Warehouse ID: 1</h3>\n",
       "            <p>Name: sucursal</p>\n",
       "            <p>Total Racks: 9</p>\n",
       "        </div>\n",
       "    \n",
       "        <div style=\"border: 1px solid black; padding: 10px; margin: 10px; display: inline-block; justify-content: center;\">\n",
       "            <h3>Warehouse ID: 2</h3>\n",
       "            <p>Name: sucursal2</p>\n",
       "            <p>Total Racks: 2</p>\n",
       "        </div>\n",
       "    \n",
       "        <div style=\"border: 1px solid black; padding: 10px; margin: 10px; display: inline-block; justify-content: center;\">\n",
       "            <h3>Warehouse ID: 3</h3>\n",
       "            <p>Name: Costco</p>\n",
       "            <p>Total Racks: 2</p>\n",
       "        </div>\n",
       "    \n",
       "        <div style=\"border: 1px solid black; padding: 10px; margin: 10px; display: inline-block; justify-content: center;\">\n",
       "            <h3>Warehouse ID: 7</h3>\n",
       "            <p>Name: Guarda</p>\n",
       "            <p>Total Racks: 1</p>\n",
       "        </div>\n",
       "    \n",
       "        <div style=\"border: 1px solid black; padding: 10px; margin: 10px; display: inline-block; justify-content: center;\">\n",
       "            <h3>Warehouse ID: 5</h3>\n",
       "            <p>Name: Shell</p>\n",
       "            <p>Total Racks: 1</p>\n",
       "        </div>\n",
       "    \n",
       "        <div style=\"border: 1px solid black; padding: 10px; margin: 10px; display: inline-block; justify-content: center;\">\n",
       "            <h3>Warehouse ID: 11</h3>\n",
       "            <p>Name: Costco</p>\n",
       "            <p>Total Racks: 1</p>\n",
       "        </div>\n",
       "    \n",
       "        <div style=\"border: 1px solid black; padding: 10px; margin: 10px; display: inline-block; justify-content: center;\">\n",
       "            <h3>Warehouse ID: 15</h3>\n",
       "            <p>Name: Guarda</p>\n",
       "            <p>Total Racks: 1</p>\n",
       "        </div>\n",
       "    \n",
       "        <div style=\"border: 1px solid black; padding: 10px; margin: 10px; display: inline-block; justify-content: center;\">\n",
       "            <h3>Warehouse ID: 6</h3>\n",
       "            <p>Name: HomeRV</p>\n",
       "            <p>Total Racks: 1</p>\n",
       "        </div>\n",
       "    \n",
       "        <div style=\"border: 1px solid black; padding: 10px; margin: 10px; display: inline-block; justify-content: center;\">\n",
       "            <h3>Warehouse ID: 12</h3>\n",
       "            <p>Name: Sams</p>\n",
       "            <p>Total Racks: 1</p>\n",
       "        </div>\n",
       "    \n",
       "        <div style=\"border: 1px solid black; padding: 10px; margin: 10px; display: inline-block; justify-content: center;\">\n",
       "            <h3>Warehouse ID: 14</h3>\n",
       "            <p>Name: HomeRV</p>\n",
       "            <p>Total Racks: 1</p>\n",
       "        </div>\n",
       "    </div>"
      ],
      "text/plain": [
       "<IPython.core.display.HTML object>"
      ]
     },
     "metadata": {},
     "output_type": "display_data"
    }
   ],
   "source": [
    "def run():\n",
    "        \n",
    "    def get_top_warehouses_most_racks():\n",
    "        flask_url = \"http://127.0.0.1:5000/database-delinquents/most/rack\"\n",
    "        response = requests.get(flask_url)\n",
    "        return response\n",
    "\n",
    "    def generate_box(info, num):\n",
    "        box_html = f'''\n",
    "            <div style=\"border: 1px solid black; padding: 10px; margin: 10px; display: inline-block; justify-content: center;\">\n",
    "                <h3>Warehouse ID: {info.get('wid', 'N/A')}</h3>\n",
    "                <p>Name: {info.get('wname', 'N/A')}</p>\n",
    "                <p>Total Racks: {info.get('rack_count', 'N/A')}</p>\n",
    "            </div>\n",
    "        '''\n",
    "        return box_html\n",
    "\n",
    "\n",
    "    data = get_top_warehouses_most_racks().json()\n",
    "\n",
    "\n",
    "    if 'TopWarehouses' in data:\n",
    "        warehouses_data = data['TopWarehouses']\n",
    "        \n",
    "        num_columns = 5\n",
    "        num_rows = -(-len(warehouses_data) // num_columns)  # Ceiling division to ensure enough rows\n",
    "        \n",
    "        boxes_html = ''.join([generate_box(warehouses_data[i], i+1) for i in range(len(warehouses_data))])\n",
    "\n",
    "        content_html = f'<div style=\"display: grid; grid-template-columns: repeat({num_columns}, 1fr); gap: 20px;\">{boxes_html}</div>'\n",
    "        display(HTML(content_html))\n",
    "        \n",
    "    else:\n",
    "        print(\"Unexpected response format:\", data)\n",
    "        \n",
    "\n"
   ]
  },
  {
   "cell_type": "code",
   "execution_count": null,
   "id": "526381772ec49b81",
   "metadata": {
    "collapsed": false
   },
   "outputs": [],
   "source": []
  }
 ],
 "metadata": {
  "kernelspec": {
   "display_name": "Python 3",
   "language": "python",
   "name": "python3"
  },
  "language_info": {
   "codemirror_mode": {
    "name": "ipython",
    "version": 2
   },
   "file_extension": ".py",
   "mimetype": "text/x-python",
   "name": "python",
   "nbconvert_exporter": "python",
   "pygments_lexer": "ipython2",
   "version": "2.7.6"
  }
 },
 "nbformat": 4,
 "nbformat_minor": 5
}
