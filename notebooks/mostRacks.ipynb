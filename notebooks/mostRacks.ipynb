{
 "cells": [
  {
   "cell_type": "code",
   "execution_count": 7,
   "id": "initial_id",
   "metadata": {
    "collapsed": true,
    "ExecuteTime": {
     "end_time": "2023-12-08T22:16:42.002537300Z",
     "start_time": "2023-12-08T22:16:41.993035100Z"
    }
   },
   "outputs": [],
   "source": [
    "import requests\n",
    "from IPython.display import display, HTML"
   ]
  },
  {
   "cell_type": "code",
   "execution_count": 8,
   "outputs": [
    {
     "data": {
      "text/plain": "<IPython.core.display.HTML object>",
      "text/html": "<div style=\"display: grid; grid-template-columns: repeat(5, 1fr); gap: 20px;\">\n            <div style=\"border: 1px solid black; padding: 10px; margin: 10px; display: inline-block; justify-content: center;\">\n                <h3>Warehouse ID: 1</h3>\n                <p>Name: sucursal</p>\n                <p>Total Racks: 9</p>\n            </div>\n        \n            <div style=\"border: 1px solid black; padding: 10px; margin: 10px; display: inline-block; justify-content: center;\">\n                <h3>Warehouse ID: 2</h3>\n                <p>Name: sucursal2</p>\n                <p>Total Racks: 4</p>\n            </div>\n        \n            <div style=\"border: 1px solid black; padding: 10px; margin: 10px; display: inline-block; justify-content: center;\">\n                <h3>Warehouse ID: 5</h3>\n                <p>Name: Almacen</p>\n                <p>Total Racks: 2</p>\n            </div>\n        \n            <div style=\"border: 1px solid black; padding: 10px; margin: 10px; display: inline-block; justify-content: center;\">\n                <h3>Warehouse ID: 3</h3>\n                <p>Name: Costco</p>\n                <p>Total Racks: 2</p>\n            </div>\n        \n            <div style=\"border: 1px solid black; padding: 10px; margin: 10px; display: inline-block; justify-content: center;\">\n                <h3>Warehouse ID: 6</h3>\n                <p>Name: HomeRV</p>\n                <p>Total Racks: 1</p>\n            </div>\n        \n            <div style=\"border: 1px solid black; padding: 10px; margin: 10px; display: inline-block; justify-content: center;\">\n                <h3>Warehouse ID: 12</h3>\n                <p>Name: Sams</p>\n                <p>Total Racks: 1</p>\n            </div>\n        \n            <div style=\"border: 1px solid black; padding: 10px; margin: 10px; display: inline-block; justify-content: center;\">\n                <h3>Warehouse ID: 11</h3>\n                <p>Name: Costco</p>\n                <p>Total Racks: 1</p>\n            </div>\n        \n            <div style=\"border: 1px solid black; padding: 10px; margin: 10px; display: inline-block; justify-content: center;\">\n                <h3>Warehouse ID: 14</h3>\n                <p>Name: HomeRV</p>\n                <p>Total Racks: 1</p>\n            </div>\n        \n            <div style=\"border: 1px solid black; padding: 10px; margin: 10px; display: inline-block; justify-content: center;\">\n                <h3>Warehouse ID: 8</h3>\n                <p>Name: Unlimited</p>\n                <p>Total Racks: 1</p>\n            </div>\n        \n            <div style=\"border: 1px solid black; padding: 10px; margin: 10px; display: inline-block; justify-content: center;\">\n                <h3>Warehouse ID: 13</h3>\n                <p>Name: Shell</p>\n                <p>Total Racks: 1</p>\n            </div>\n        </div>"
     },
     "metadata": {},
     "output_type": "display_data"
    }
   ],
   "source": [
    "\n",
    "def get_top_warehouses_most_racks():\n",
    "    flask_url = \"http://127.0.0.1:5000/database-delinquents/most/rack\"\n",
    "    response = requests.get(flask_url)\n",
    "    return response\n",
    "\n",
    "def run():\n",
    "    data = get_top_warehouses_most_racks().json()\n",
    "    def generate_box(info):\n",
    "        box_html = f'''\n",
    "            <div style=\"border: 1px solid black; padding: 10px; margin: 10px; display: inline-block; justify-content: center;\">\n",
    "                <h3>Warehouse ID: {info.get('wid', 'N/A')}</h3>\n",
    "                <p>Name: {info.get('wname', 'N/A')}</p>\n",
    "                <p>Total Racks: {info.get('rack_count', 'N/A')}</p>\n",
    "            </div>\n",
    "        '''\n",
    "        return box_html\n",
    "\n",
    "    if 'TopWarehouses' in data:\n",
    "        warehouses_data = data['TopWarehouses']\n",
    "        num_columns = 5\n",
    "        boxes_html = ''.join([generate_box(record) for record in warehouses_data])\n",
    "        content_html = f'<div style=\"display: grid; grid-template-columns: repeat({num_columns}, 1fr); gap: 20px;\">{boxes_html}</div>'\n",
    "        display(HTML(content_html))\n",
    "    else:\n",
    "        print(\"Unexpected response format:\", data)\n",
    "\n",
    "# run()"
   ],
   "metadata": {
    "collapsed": false,
    "ExecuteTime": {
     "end_time": "2023-12-08T22:33:48.505298300Z",
     "start_time": "2023-12-08T22:33:47.822729500Z"
    }
   },
   "id": "ba209ea4bf4d8ec2"
  }
 ],
 "metadata": {
  "kernelspec": {
   "display_name": "Python 3",
   "language": "python",
   "name": "python3"
  },
  "language_info": {
   "codemirror_mode": {
    "name": "ipython",
    "version": 2
   },
   "file_extension": ".py",
   "mimetype": "text/x-python",
   "name": "python",
   "nbconvert_exporter": "python",
   "pygments_lexer": "ipython2",
   "version": "2.7.6"
  }
 },
 "nbformat": 4,
 "nbformat_minor": 5
}
