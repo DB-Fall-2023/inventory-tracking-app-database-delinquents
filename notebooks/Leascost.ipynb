{
 "cells": [
  {
   "cell_type": "code",
   "execution_count": 1,
   "metadata": {},
   "outputs": [],
   "source": [
    "import requests\n",
    "from IPython.display import display, HTML\n",
    "import dateutil.parser"
   ]
  },
  {
   "cell_type": "code",
   "execution_count": 3,
   "metadata": {},
   "outputs": [],
   "source": [
    "def get_items(wid_value, uid_value):\n",
    "    flask_url = f\"http://127.0.0.1:5000/database-delinquents/warehouse/{wid_value}/transaction/leastcost\"\n",
    "    data = {\"uid\": uid_value}\n",
    "    response = requests.post(flask_url, json=data)\n",
    "    return response"
   ]
  },
  {
   "cell_type": "code",
   "execution_count": 3,
   "metadata": {},
   "outputs": [],
   "source": [
    "def run(wid, uid): \n",
    "    data = get_items(wid, uid).json()['LeastCost_Days']\n",
    "\n",
    "    # Function to format the date\n",
    "    def format_date(date_str):\n",
    "        trimmed_date_str = date_str[0:16]\n",
    "        return trimmed_date_str\n",
    "\n",
    "    def generate_box(data, i):\n",
    "        box_html = f'''\n",
    "        <div style=\"border: 1px solid black; padding: 10px; margin: 10px; display: inline-block; text-align: center;\">\n",
    "            <h3 style=\"font-size: 20px;\">Least Cost Day #{i}</h3>\n",
    "            <p style=\"font-size: 16px;\">Date: {format_date(data['intdate'])}</p>\n",
    "            <p style=\"font-size: 16px;\">Quantity: {data['quanity']}</p>\n",
    "            <p style=\"font-size: 16px;\">Total Amount: {int(data['totalamount'])}</p>\n",
    "        </div>\n",
    "    '''\n",
    "        return box_html\n",
    "\n",
    "    boxes_html = ''.join([generate_box(data[i], i+1) for i in range(3)])\n",
    "\n",
    "    # Display the boxes centered horizontally\n",
    "    content_html = f'<div style=\"display: flex; justify-content: center;\">{boxes_html}</div>'\n",
    "    display(HTML(content_html))"
   ]
  },
  {
   "cell_type": "code",
   "execution_count": 8,
   "metadata": {},
   "outputs": [
    {
     "data": {
      "text/html": [
       "<div style=\"display: flex; justify-content: center;\">\n",
       "        <div style=\"border: 1px solid black; padding: 10px; margin: 10px; display: inline-block; text-align: center;\">\n",
       "            <h3>Least Cost Day #1</h3>\n",
       "            <p>Date: Wed, 13 Dec 2023</p>\n",
       "            <p>Quantity: 200</p>\n",
       "            <p>Total Amount: 120</p>\n",
       "        </div>\n",
       "        \n",
       "        <div style=\"border: 1px solid black; padding: 10px; margin: 10px; display: inline-block; text-align: center;\">\n",
       "            <h3>Least Cost Day #2</h3>\n",
       "            <p>Date: Mon, 20 Nov 2023</p>\n",
       "            <p>Quantity: 20</p>\n",
       "            <p>Total Amount: 134</p>\n",
       "        </div>\n",
       "        \n",
       "        <div style=\"border: 1px solid black; padding: 10px; margin: 10px; display: inline-block; text-align: center;\">\n",
       "            <h3>Least Cost Day #3</h3>\n",
       "            <p>Date: Wed, 30 Dec 2009</p>\n",
       "            <p>Quantity: 200</p>\n",
       "            <p>Total Amount: 179</p>\n",
       "        </div>\n",
       "        </div>"
      ],
      "text/plain": [
       "<IPython.core.display.HTML object>"
      ]
     },
     "metadata": {},
     "output_type": "display_data"
    }
   ],
   "source": []
  },
  {
   "cell_type": "code",
   "execution_count": null,
   "metadata": {},
   "outputs": [],
   "source": []
  }
 ],
 "metadata": {
  "kernelspec": {
   "display_name": "DBFall-project",
   "language": "python",
   "name": "python3"
  },
  "language_info": {
   "codemirror_mode": {
    "name": "ipython",
    "version": 3
   },
   "file_extension": ".py",
   "mimetype": "text/x-python",
   "name": "python",
   "nbconvert_exporter": "python",
   "pygments_lexer": "ipython3",
   "version": "3.12.0"
  }
 },
 "nbformat": 4,
 "nbformat_minor": 2
}
