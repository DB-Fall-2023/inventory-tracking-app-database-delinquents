{
 "cells": [
  {
   "cell_type": "code",
   "execution_count": 3,
   "metadata": {},
   "outputs": [],
   "source": [
    "import requests\n",
    "from IPython.display import display, HTML"
   ]
  },
  {
   "cell_type": "code",
   "execution_count": 4,
   "metadata": {},
   "outputs": [
    {
     "data": {
      "text/plain": "<IPython.core.display.HTML object>",
      "text/html": "<div style=\"display: flex; justify-content: center;\">\n    <div style=\"border: 1px solid black; padding: 10px; margin: 10px; display: inline-block; text-align: left;\">\n        <h3>Least Cost Day #1</h3>\n        <p>Date: Wed, 13 Dec 2023</p>\n        <p>Quantity: 100</p>\n        <p>Total Amount: 60</p>\n    </div>\n    \n    <div style=\"border: 1px solid black; padding: 10px; margin: 10px; display: inline-block; text-align: left;\">\n        <h3>Least Cost Day #2</h3>\n        <p>Date: Mon, 20 Nov 2023</p>\n        <p>Quantity: 20</p>\n        <p>Total Amount: 135</p>\n    </div>\n    \n    <div style=\"border: 1px solid black; padding: 10px; margin: 10px; display: inline-block; text-align: left;\">\n        <h3>Least Cost Day #3</h3>\n        <p>Date: Wed, 30 Dec 2009</p>\n        <p>Quantity: 200</p>\n        <p>Total Amount: 180</p>\n    </div>\n    </div>"
     },
     "metadata": {},
     "output_type": "display_data"
    }
   ],
   "source": [
    "i=1\n",
    "def get_items(wid_value, uid_value):\n",
    "    flask_url = f\"http://127.0.0.1:5000/database-delinquents/warehouse/{wid_value}/transaction/leastcost\"\n",
    "    data = {\"uid\": uid_value}\n",
    "    response = requests.post(flask_url, json=data)\n",
    "    return response\n",
    "\n",
    "# Function to format the date\n",
    "def format_date(date_str):\n",
    "    trimmed_date_str = date_str[0:16]\n",
    "    return trimmed_date_str\n",
    "\n",
    "def generate_box(data):\n",
    "    global i\n",
    "    box_html = f'''\n",
    "    <div style=\"border: 1px solid black; padding: 10px; margin: 10px; display: inline-block; text-align: left;\">\n",
    "        <h3>Least Cost Day #{i}</h3>\n",
    "        <p>Date: {format_date(data['intdate'])}</p>\n",
    "        <p>Quantity: {data['quanity']}</p>\n",
    "        <p>Total Amount: {int(data['totalamount'])}</p>\n",
    "    </div>\n",
    "    '''\n",
    "    i+=1\n",
    "    return box_html\n",
    "\n",
    "def run(wid, uid):\n",
    "    data = get_items(wid, uid).json()['LeastCost_Days']\n",
    "    boxes_html = ''.join([generate_box(record) for record in data])\n",
    "\n",
    "    # Display the boxes centered horizontally\n",
    "    content_html = f'<div style=\"display: flex; justify-content: center;\">{boxes_html}</div>'\n",
    "    display(HTML(content_html))\n",
    "\n",
    "# run(1,1)"
   ]
  }
 ],
 "metadata": {
  "kernelspec": {
   "display_name": "DBFall-project",
   "language": "python",
   "name": "python3"
  },
  "language_info": {
   "codemirror_mode": {
    "name": "ipython",
    "version": 3
   },
   "file_extension": ".py",
   "mimetype": "text/x-python",
   "name": "python",
   "nbconvert_exporter": "python",
   "pygments_lexer": "ipython3",
   "version": "3.12.1"
  }
 },
 "nbformat": 4,
 "nbformat_minor": 2
}
