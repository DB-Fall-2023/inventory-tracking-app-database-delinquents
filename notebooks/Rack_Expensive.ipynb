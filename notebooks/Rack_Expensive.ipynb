{
 "cells": [
  {
   "cell_type": "code",
   "execution_count": 11,
   "metadata": {},
   "outputs": [],
   "source": [
    "import requests\n",
    "import matplotlib.pyplot as plt\n",
    "import pandas as pd\n",
    "import ipywidgets as widgets\n",
    "from IPython.display import display, clear_output\n",
    "\n",
    "def get_items(wid_value, uid_value):\n",
    "    flask_url = f\"http://127.0.0.1:5000/database-delinquents/warehouse/{wid_value}/rack/expensive\"\n",
    "    data = {\"uid\": uid_value}\n",
    "    response = requests.post(flask_url, json=data)\n",
    "    return response\n",
    "\n",
    "\n",
    "\n",
    "def show_plt(wid_value, uid_value):\n",
    "    items = get_items(wid_value, uid_value)\n",
    "    data = items.json()['Racks']\n",
    "\n",
    "    rack_names = [str(rack['rid']) for rack in data]\n",
    "    total_prices = [rack['totalprice'] for rack in data]\n",
    "\n",
    "    plt.figure(figsize=(10, 6))\n",
    "    plt.bar(rack_names, total_prices, color='skyblue')\n",
    "    plt.xlabel('Rack Names')\n",
    "    plt.ylabel('Total Price')\n",
    "    plt.title('Total Price for Each Rack')\n",
    "    plt.tight_layout()\n",
    "    \n",
    "    # Get the plot as an HTML string\n",
    "    plot_html_str = f'<div style=\"display: flex; justify-content: center;\"><img src=\"data:image/png;base64,{plot_to_html(plt)}\" /></div>'\n",
    "    \n",
    "    # Display the plot\n",
    "    display(HTML(plot_html_str))\n",
    "\n",
    "# Function to convert the plot to HTML\n",
    "def plot_to_html(plot):\n",
    "    from io import BytesIO\n",
    "    import base64\n",
    "\n",
    "    # Save the plot to a BytesIO object\n",
    "    buf = BytesIO()\n",
    "    plot.savefig(buf, format='png')\n",
    "    buf.seek(0)\n",
    "    \n",
    "    # Encode the plot in base64\n",
    "    plot_base64 = base64.b64encode(buf.read()).decode('utf-8')\n",
    "    \n",
    "    return plot_base64\n",
    "\n"
   ]
  },
  {
   "cell_type": "code",
   "execution_count": null,
   "metadata": {},
   "outputs": [],
   "source": []
  }
 ],
 "metadata": {
  "kernelspec": {
   "display_name": "DBFall-project",
   "language": "python",
   "name": "python3"
  },
  "language_info": {
   "codemirror_mode": {
    "name": "ipython",
    "version": 3
   },
   "file_extension": ".py",
   "mimetype": "text/x-python",
   "name": "python",
   "nbconvert_exporter": "python",
   "pygments_lexer": "ipython3",
   "version": "3.12.0"
  }
 },
 "nbformat": 4,
 "nbformat_minor": 2
}
