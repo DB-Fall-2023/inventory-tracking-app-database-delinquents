{
 "cells": [
  {
   "cell_type": "markdown",
   "metadata": {},
   "source": [
    "<h1>Top 5 Most Expensive Racks in Warehouse 1</h1>"
   ]
  },
  {
   "cell_type": "markdown",
   "metadata": {},
   "source": [
    "<p>This Graph will show the ids and the total price of the 5 most expensives racks in a warehouse.</p>"
   ]
  },
  {
   "cell_type": "code",
   "execution_count": 27,
   "metadata": {},
   "outputs": [
    {
     "data": {
      "application/vnd.jupyter.widget-view+json": {
       "model_id": "f730ba75b1c3430c8eb559c01658d36d",
       "version_major": 2,
       "version_minor": 0
      },
      "text/plain": [
       "Text(value='', placeholder='Your Warehouse Here')"
      ]
     },
     "metadata": {},
     "output_type": "display_data"
    },
    {
     "data": {
      "application/vnd.jupyter.widget-view+json": {
       "model_id": "3ceee06e2fb54620812aafad0f06979e",
       "version_major": 2,
       "version_minor": 0
      },
      "text/plain": [
       "Button(description='Show Graph', style=ButtonStyle())"
      ]
     },
     "metadata": {},
     "output_type": "display_data"
    },
    {
     "data": {
      "application/vnd.jupyter.widget-view+json": {
       "model_id": "40dd823855094e698b2ea5c7a2e65467",
       "version_major": 2,
       "version_minor": 0
      },
      "text/plain": [
       "Output()"
      ]
     },
     "metadata": {},
     "output_type": "display_data"
    },
    {
     "data": {
      "application/vnd.jupyter.widget-view+json": {
       "model_id": "551aa1f7082c45088762432db1045430",
       "version_major": 2,
       "version_minor": 0
      },
      "text/plain": [
       "Output()"
      ]
     },
     "metadata": {},
     "output_type": "display_data"
    }
   ],
   "source": [
    "import requests\n",
    "import matplotlib.pyplot as plt\n",
    "import pandas as pd\n",
    "import ipywidgets as widgets\n",
    "from IPython.display import display, clear_output\n",
    "\n",
    "def get_items(wid_value, uid_value):\n",
    "    flask_url = f\"http://127.0.0.1:5000/database-delinquents/warehouse/{wid_value}/rack/expensive\"\n",
    "    data = {\"uid\": uid_value}\n",
    "    response = requests.post(flask_url, json=data)\n",
    "    return response\n",
    "\n",
    "def show_table(b):\n",
    "    items = get_items(wid.value)\n",
    "    data = items.json()['Racks']\n",
    "    print(data)\n",
    "    df = pd.DataFrame(data)\n",
    "    \n",
    "    # Clear previous output and display the table in a new output area\n",
    "    with output_table:\n",
    "        clear_output(wait=True)\n",
    "        display(df)\n",
    "\n",
    "def show_plt(wid_value, uid_value):\n",
    "    items = get_items(wid_value, uid_value)\n",
    "    data = items.json()['Racks']\n",
    "\n",
    "    rack_names = [str(rack['rid']) for rack in data]\n",
    "    total_prices = [rack['totalprice'] for rack in data]\n",
    "\n",
    "    # Plotting the bar graph\n",
    "    with output_graph:\n",
    "        plt.figure(figsize=(10, 6))\n",
    "        plt.bar(rack_names, total_prices, color='skyblue')\n",
    "        plt.xlabel('Rack Names')\n",
    "        plt.ylabel('Total Price')\n",
    "        plt.title('Total Price for Each Rack')\n",
    "        plt.xticks(rotation=45)  # Rotate x-axis labels for better readability\n",
    "        plt.tight_layout()\n",
    "        plt.show()\n",
    "\n",
    "# # Textbox for user input\n",
    "wid = widgets.Text(placeholder='Your Warehouse Here')\n",
    "uid = widgets.Text(placeholder='Your User Id Here')\n",
    "output_table = widgets.Output()\n",
    "output_graph = widgets.Output()\n",
    "\n",
    "# Button to trigger displaying the graph\n",
    "show_plt_button = widgets.Button(description='Show Graph')\n",
    "show_plt_button.on_click(lambda b: show_plt(wid.value, uid.value))  # Pass the text input value to show_plt\n",
    "\n",
    "# Display the textbox, button, graph, and table in separate output areas\n",
    "display(wid, uid, show_plt_button, output_graph, output_table)\n",
    "\n"
   ]
  },
  {
   "cell_type": "code",
   "execution_count": null,
   "metadata": {},
   "outputs": [],
   "source": []
  }
 ],
 "metadata": {
  "kernelspec": {
   "display_name": "DBFall-project",
   "language": "python",
   "name": "python3"
  },
  "language_info": {
   "codemirror_mode": {
    "name": "ipython",
    "version": 3
   },
   "file_extension": ".py",
   "mimetype": "text/x-python",
   "name": "python",
   "nbconvert_exporter": "python",
   "pygments_lexer": "ipython3",
   "version": "3.12.0"
  }
 },
 "nbformat": 4,
 "nbformat_minor": 2
}
