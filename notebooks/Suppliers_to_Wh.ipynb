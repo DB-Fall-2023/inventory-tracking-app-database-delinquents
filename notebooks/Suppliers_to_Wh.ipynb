{
 "cells": [
  {
   "cell_type": "code",
   "execution_count": 1,
   "metadata": {},
   "outputs": [],
   "source": [
    "import requests\n",
    "from IPython.display import display, HTML"
   ]
  },
  {
   "cell_type": "code",
   "execution_count": 2,
   "metadata": {},
   "outputs": [
    {
     "data": {
      "text/html": [
       "\n",
       "    <div style=\"background-color: #BD6B73; font-family: Roboto; color: white; padding: 10px; text-align: center;\">\n",
       "        <h2 style=\"margin: 0; display: flex; flex-direction: column; align-items: center;\">Top Suppliers that Supply to Warehouse</h2>\n",
       "    </div>\n"
      ],
      "text/plain": [
       "<IPython.core.display.HTML object>"
      ]
     },
     "metadata": {},
     "output_type": "display_data"
    }
   ],
   "source": [
    "import requests\n",
    "from IPython.display import display, HTML\n",
    "\n",
    "# HTML for the title box\n",
    "title_box_html = '''\n",
    "    <div style=\"background-color: #BD6B73; font-family: Roboto; color: white; padding: 10px; text-align: center;\">\n",
    "        <h2 style=\"margin: 0; display: flex; flex-direction: column; align-items: center;\">Top Suppliers that Supply to Warehouse</h2>\n",
    "    </div>\n",
    "'''\n",
    "\n",
    "display(HTML(title_box_html))"
   ]
  },
  {
   "cell_type": "code",
   "execution_count": 1,
   "metadata": {},
   "outputs": [],
   "source": [
    "\n",
    "\n",
    "def get_items(wid_value, uid_value):\n",
    "    flask_url = f\"http://127.0.0.1:5000/database-delinquents/warehouse/{wid_value}/transaction/suppliers\"\n",
    "    data = {\"uid\": uid_value}\n",
    "    response = requests.post(flask_url, json=data)\n",
    "    return response\n",
    "\n",
    "def generate_box(info, num):\n",
    "    box_html = f'''\n",
    "        <div style=\"border: 1px solid black; padding: 10px; margin: 10px; display: inline-block; justify-content: center;\">\n",
    "            <h3>Box #{num}, Supplier Id: {info['sid']}</h3>\n",
    "            <p>Name: {info['sname']}</p>\n",
    "            <p>City: {info['scity']}</p>\n",
    "            <p>Country: {info['scountry']}</p>\n",
    "            <p>Phone: {info['sphone']}</p>\n",
    "            <p>Total Supplied: {info['totalsupplied']}</p>\n",
    "        </div>\n",
    "    '''\n",
    "    return box_html\n",
    "\n",
    "def run(wid, uid):\n",
    "    data = get_items(wid, uid).json()['Suppliers']\n",
    "\n",
    "    boxes_html = ''.join([generate_box(data[i], i+1) for i in range(3)])\n",
    "\n",
    "    # Display the boxes centered horizontally\n",
    "    content_html = f'<div style=\"display: flex; justify-content: center;\">{boxes_html}</div>'\n",
    "    display(HTML(content_html))\n"
   ]
  },
  {
   "cell_type": "code",
   "execution_count": null,
   "metadata": {},
   "outputs": [],
   "source": []
  }
 ],
 "metadata": {
  "kernelspec": {
   "display_name": "DBFall-project",
   "language": "python",
   "name": "python3"
  },
  "language_info": {
   "codemirror_mode": {
    "name": "ipython",
    "version": 3
   },
   "file_extension": ".py",
   "mimetype": "text/x-python",
   "name": "python",
   "nbconvert_exporter": "python",
   "pygments_lexer": "ipython3",
   "version": "3.12.1"
  }
 },
 "nbformat": 4,
 "nbformat_minor": 2
}
