{
 "cells": [
  {
   "cell_type": "code",
   "execution_count": 1,
   "metadata": {},
   "outputs": [],
   "source": [
    "import requests\n",
    "from IPython.display import display, HTML"
   ]
  },
  {
   "cell_type": "code",
   "execution_count": 1,
   "metadata": {
    "ExecuteTime": {
     "end_time": "2023-12-09T18:39:57.606158900Z",
     "start_time": "2023-12-09T18:39:57.545094500Z"
    }
   },
   "outputs": [
    {
     "data": {
      "text/plain": "<IPython.core.display.HTML object>",
      "text/html": "\n    <div style=\"background-color: #BD6B73; font-family: Roboto; color: white; padding: 10px; text-align: center;\">\n        <h2 style=\"margin: 0; display: flex; flex-direction: column; align-items: center;\">Top Suppliers that Supply to Warehouse</h2>\n    </div>\n"
     },
     "metadata": {},
     "output_type": "display_data"
    }
   ],
   "source": [
    "import requests\n",
    "from IPython.display import display, HTML\n",
    "\n",
    "# HTML for the title box\n",
    "title_box_html = '''\n",
    "    <div style=\"background-color: #BD6B73; font-family: Roboto; color: white; padding: 10px; text-align: center;\">\n",
    "        <h2 style=\"margin: 0; display: flex; flex-direction: column; align-items: center;\">Top Suppliers that Supply to Warehouse</h2>\n",
    "    </div>\n",
    "'''\n",
    "\n",
    "display(HTML(title_box_html))"
   ]
  },
  {
   "cell_type": "code",
   "execution_count": 3,
   "metadata": {
    "ExecuteTime": {
     "end_time": "2023-12-09T18:40:21.418262600Z",
     "start_time": "2023-12-09T18:40:20.176584Z"
    }
   },
   "outputs": [
    {
     "data": {
      "text/plain": "<IPython.core.display.HTML object>",
      "text/html": "<div style=\"display: flex; justify-content: center;\">\n        <div style=\"border: 1px solid black; padding: 10px; margin: 10px; display: inline-block; justify-content: center;\">\n            <h3>Box #1, Supplier Id: 1</h3>\n            <p>Name: Gabriel</p>\n            <p>City: Maya</p>\n            <p>Country: PR</p>\n            <p>Phone: 1111111111</p>\n            <p>Total Supplied: 9</p>\n        </div>\n    \n        <div style=\"border: 1px solid black; padding: 10px; margin: 10px; display: inline-block; justify-content: center;\">\n            <h3>Box #2, Supplier Id: 5</h3>\n            <p>Name: Fulano</p>\n            <p>City: Tokyo</p>\n            <p>Country: Japon</p>\n            <p>Phone: 7879391010</p>\n            <p>Total Supplied: 1</p>\n        </div>\n    \n        <div style=\"border: 1px solid black; padding: 10px; margin: 10px; display: inline-block; justify-content: center;\">\n            <h3>Box #3, Supplier Id: 4</h3>\n            <p>Name: Coiej</p>\n            <p>City: Humacao</p>\n            <p>Country: PR</p>\n            <p>Phone: 0917245751</p>\n            <p>Total Supplied: 1</p>\n        </div>\n    </div>"
     },
     "metadata": {},
     "output_type": "display_data"
    }
   ],
   "source": [
    "\n",
    "\n",
    "def get_items(wid_value, uid_value):\n",
    "    flask_url = f\"http://127.0.0.1:5000/database-delinquents/warehouse/{wid_value}/transaction/suppliers\"\n",
    "    data = {\"uid\": uid_value}\n",
    "    response = requests.post(flask_url, json=data)\n",
    "    return response\n",
    "\n",
    "def generate_box(info, num):\n",
    "    box_html = f'''\n",
    "        <div style=\"border: 1px solid black; padding: 10px; margin: 10px; display: inline-block; justify-content: center;\">\n",
    "            <h3>Box #{num}, Supplier Id: {info['sid']}</h3>\n",
    "            <p>Name: {info['sname']}</p>\n",
    "            <p>City: {info['scity']}</p>\n",
    "            <p>Country: {info['scountry']}</p>\n",
    "            <p>Phone: {info['sphone']}</p>\n",
    "            <p>Total Supplied: {info['totalsupplied']}</p>\n",
    "        </div>\n",
    "    '''\n",
    "    return box_html\n",
    "\n",
    "data = get_items(1, 1).json()['Suppliers']\n",
    "\n",
    "boxes_html = ''.join([generate_box(data[i], i+1) for i in range(3)])\n",
    "\n",
    "# Display the boxes centered horizontally\n",
    "content_html = f'<div style=\"display: flex; justify-content: center;\">{boxes_html}</div>'\n",
    "display(HTML(content_html))\n"
   ]
  },
  {
   "cell_type": "code",
   "execution_count": 2,
   "metadata": {
    "ExecuteTime": {
     "end_time": "2023-12-09T18:40:14.309462700Z",
     "start_time": "2023-12-09T18:40:14.282936600Z"
    }
   },
   "outputs": [],
   "source": []
  },
  {
   "cell_type": "code",
   "execution_count": null,
   "outputs": [],
   "source": [],
   "metadata": {
    "collapsed": false
   }
  }
 ],
 "metadata": {
  "kernelspec": {
   "display_name": "DBFall-project",
   "language": "python",
   "name": "python3"
  },
  "language_info": {
   "codemirror_mode": {
    "name": "ipython",
    "version": 3
   },
   "file_extension": ".py",
   "mimetype": "text/x-python",
   "name": "python",
   "nbconvert_exporter": "python",
   "pygments_lexer": "ipython3",
   "version": "3.12.0"
  }
 },
 "nbformat": 4,
 "nbformat_minor": 2
}
