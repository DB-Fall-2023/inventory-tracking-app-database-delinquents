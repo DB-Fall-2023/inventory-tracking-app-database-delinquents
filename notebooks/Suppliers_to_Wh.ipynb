{
 "cells": [
  {
   "cell_type": "code",
   "execution_count": 3,
   "metadata": {},
   "outputs": [],
   "source": [
    "import requests\n",
    "from IPython.display import display, HTML"
   ]
  },
  {
   "cell_type": "code",
   "execution_count": 2,
   "metadata": {},
   "outputs": [
    {
     "data": {
      "text/plain": "<IPython.core.display.HTML object>",
      "text/html": "<div style=\"display: flex; justify-content: center;\">\n        <div style=\"border: 1px solid black; padding: 10px; margin: 10px; display: inline-block; justify-content: center;\">\n            <h3>Box #1, Supplier Id: 1</h3>\n            <p>Name: Gabriel</p>\n            <p>City: Maya</p>\n            <p>Country: PR</p>\n            <p>Phone: 1111111111</p>\n            <p>Total Supplied: 9</p>\n        </div>\n    \n        <div style=\"border: 1px solid black; padding: 10px; margin: 10px; display: inline-block; justify-content: center;\">\n            <h3>Box #2, Supplier Id: 5</h3>\n            <p>Name: Fulano</p>\n            <p>City: Tokyo</p>\n            <p>Country: Japon</p>\n            <p>Phone: 7879391010</p>\n            <p>Total Supplied: 1</p>\n        </div>\n    \n        <div style=\"border: 1px solid black; padding: 10px; margin: 10px; display: inline-block; justify-content: center;\">\n            <h3>Box #3, Supplier Id: 4</h3>\n            <p>Name: Coiej</p>\n            <p>City: Humacao</p>\n            <p>Country: PR</p>\n            <p>Phone: 0917245751</p>\n            <p>Total Supplied: 1</p>\n        </div>\n    </div>"
     },
     "metadata": {},
     "output_type": "display_data"
    }
   ],
   "source": [
    "i=1\n",
    "def get_items(wid_value, uid_value):\n",
    "    flask_url = f\"http://127.0.0.1:5000/database-delinquents/warehouse/{wid_value}/transaction/suppliers\"\n",
    "    data = {\"uid\": uid_value}\n",
    "    response = requests.post(flask_url, json=data)\n",
    "    return response\n",
    "\n",
    "def generate_box(info):\n",
    "    global i\n",
    "    box_html = f'''\n",
    "        <div style=\"border: 1px solid black; padding: 10px; margin: 10px; display: inline-block; justify-content: center;\">\n",
    "            <h3>Box #{i}, Supplier Id: {info['sid']}</h3>\n",
    "            <p>Name: {info['sname']}</p>\n",
    "            <p>City: {info['scity']}</p>\n",
    "            <p>Country: {info['scountry']}</p>\n",
    "            <p>Phone: {info['sphone']}</p>\n",
    "            <p>Total Supplied: {info['totalsupplied']}</p>\n",
    "        </div>\n",
    "    '''\n",
    "    i+=1\n",
    "    return box_html\n",
    "\n",
    "def run(wid, uid):\n",
    "    data = get_items(wid, uid).json()\n",
    "    try:\n",
    "        data = data['Suppliers']\n",
    "    except:\n",
    "        title_box_html = '''<div style=\"background-color: black; padding: 10px; text-align: center; margin: 25px auto; width: 45%;\">\n",
    "                    <h2 style=\"margin: 0; color: white;\">Suppliers not found</h2>\n",
    "                </div>\n",
    "                '''\n",
    "        display(HTML(title_box_html))\n",
    "        time.sleep(1)\n",
    "        clear_output()\n",
    "        return 0\n",
    "\n",
    "    boxes_html = ''.join([generate_box(record) for record in data])\n",
    "\n",
    "    # Display the boxes centered horizontally\n",
    "    content_html = f'<div style=\"display: flex; justify-content: center;\">{boxes_html}</div>'\n",
    "    display(HTML(content_html))\n",
    "\n",
    "# run(1,1)"
   ]
  },
  {
   "cell_type": "code",
   "execution_count": 2,
   "metadata": {},
   "outputs": [],
   "source": []
  }
 ],
 "metadata": {
  "kernelspec": {
   "display_name": "DBFall-project",
   "language": "python",
   "name": "python3"
  },
  "language_info": {
   "codemirror_mode": {
    "name": "ipython",
    "version": 3
   },
   "file_extension": ".py",
   "mimetype": "text/x-python",
   "name": "python",
   "nbconvert_exporter": "python",
   "pygments_lexer": "ipython3",
   "version": "3.12.1"
  }
 },
 "nbformat": 4,
 "nbformat_minor": 2
}
