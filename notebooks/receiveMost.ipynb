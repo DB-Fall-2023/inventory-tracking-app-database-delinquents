{
 "cells": [
  {
   "cell_type": "code",
   "execution_count": 1,
   "id": "initial_id",
   "metadata": {
    "ExecuteTime": {
     "end_time": "2023-12-08T20:07:14.048969900Z",
     "start_time": "2023-12-08T20:07:14.038968700Z"
    },
    "collapsed": true
   },
   "outputs": [],
   "source": [
    "import requests\n",
    "from IPython.display import display, HTML"
   ]
  },
  {
   "cell_type": "code",
   "execution_count": 22,
   "id": "24654bfa1935a82",
   "metadata": {
    "ExecuteTime": {
     "end_time": "2023-12-08T23:49:07.504225Z",
     "start_time": "2023-12-08T23:49:06.428079700Z"
    },
    "collapsed": false
   },
   "outputs": [
    {
     "data": {
      "text/html": [
       "<div style=\"display: flex; justify-content: center;\">\n",
       "        <div style=\"border: 1px solid black; padding: 10px; margin: 10px; display: inline-block; justify-content: center;\">\n",
       "            <h3>User Id: 3</h3>\n",
       "            <p>Total Exchanges Received: 2</p>\n",
       "        </div>\n",
       "    \n",
       "        <div style=\"border: 1px solid black; padding: 10px; margin: 10px; display: inline-block; justify-content: center;\">\n",
       "            <h3>User Id: 14</h3>\n",
       "            <p>Total Exchanges Received: 1</p>\n",
       "        </div>\n",
       "    </div>"
      ],
      "text/plain": [
       "<IPython.core.display.HTML object>"
      ]
     },
     "metadata": {},
     "output_type": "display_data"
    }
   ],
   "source": [
    "def run(wid, uid):\n",
    "    def get_top_users_most_exchanges(wid_value, uid_value):\n",
    "        flask_url = f\"http://127.0.0.1:5000/database-delinquents/warehouse/{wid_value}/users/receivesmost\"\n",
    "        data = {\"uid\": uid_value}\n",
    "        response = requests.post(flask_url, json=data)\n",
    "        return response\n",
    "\n",
    "    def generate_box(info, num):\n",
    "        box_html = f'''\n",
    "            <div style=\"border: 1px solid black; padding: 10px; margin: 10px; display: inline-block; justify-content: center;\">\n",
    "                <h3>User Id: {info['uid']}</h3>\n",
    "                <p>Total Exchanges Received: {info['exchangecount']}</p>\n",
    "            </div>\n",
    "        '''\n",
    "        return box_html\n",
    "\n",
    "    data = get_top_users_most_exchanges(wid, uid).json()\n",
    "    boxes_html = ''\n",
    "\n",
    "    if 'TopUsers' in data:\n",
    "        users_data = data['TopUsers']\n",
    "        boxes_html = ''.join([generate_box(users_data[i], i+1) for i in range(min(3, len(users_data)))])\n",
    "        \n",
    "    content_html = f'<div style=\"display: flex; justify-content: center;\">{boxes_html}</div>'\n",
    "    display(HTML(content_html))\n",
    "\n",
    "    if not boxes_html:\n",
    "        print(\"Unexpected response format:\", data)\n",
    "    "
   ]
  },
  {
   "cell_type": "code",
   "execution_count": 16,
   "id": "9f67766759ff613",
   "metadata": {
    "ExecuteTime": {
     "end_time": "2023-12-08T20:07:15.119792500Z",
     "start_time": "2023-12-08T20:07:15.115791900Z"
    },
    "collapsed": false
   },
   "outputs": [],
   "source": []
  }
 ],
 "metadata": {
  "kernelspec": {
   "display_name": "Python 3",
   "language": "python",
   "name": "python3"
  },
  "language_info": {
   "codemirror_mode": {
    "name": "ipython",
    "version": 3
   },
   "file_extension": ".py",
   "mimetype": "text/x-python",
   "name": "python",
   "nbconvert_exporter": "python",
   "pygments_lexer": "ipython3",
   "version": "3.12.1"
  }
 },
 "nbformat": 4,
 "nbformat_minor": 5
}
