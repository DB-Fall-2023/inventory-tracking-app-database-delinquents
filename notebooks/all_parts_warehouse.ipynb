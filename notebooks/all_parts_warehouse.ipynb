{
 "cells": [
  {
   "cell_type": "markdown",
   "source": [
    "<h1>All parts in warehouse</h1>"
   ],
   "metadata": {
    "collapsed": false
   },
   "id": "39b3b2804b1dfe64"
  },
  {
   "cell_type": "code",
   "execution_count": 4,
   "outputs": [
    {
     "data": {
      "text/plain": "<IPython.core.display.HTML object>",
      "text/html": "<style>\n.output_area {\n    width: 100% !important;\n    margin: 0 auto !important;\n}\n</style>"
     },
     "metadata": {},
     "output_type": "display_data"
    },
    {
     "data": {
      "text/plain": "Dropdown(description='Sort by:', options=('id', 'name', 'price', 'rid', 'type'), value='id')",
      "application/vnd.jupyter.widget-view+json": {
       "version_major": 2,
       "version_minor": 0,
       "model_id": "dfb20c3e17ce427caf474d9678b9c59d"
      }
     },
     "metadata": {},
     "output_type": "display_data"
    },
    {
     "data": {
      "text/plain": "Output()",
      "application/vnd.jupyter.widget-view+json": {
       "version_major": 2,
       "version_minor": 0,
       "model_id": "cf84033c70f342ff91fbb18f61b9a7ed"
      }
     },
     "metadata": {},
     "output_type": "display_data"
    }
   ],
   "source": [
    "import requests\n",
    "from IPython.display import display, HTML\n",
    "import pandas\n",
    "import ipywidgets as widgets\n",
    "\n",
    "def generate_graph(wid):\n",
    "    # Query Route\n",
    "    flask_url = f\"http://127.0.0.1:5000/database-delinquents/parts/warehouse/{wid}\"\n",
    "    response = requests.get(flask_url)\n",
    "    return response\n",
    "\n",
    "# Create a DataFrame from the parts list\n",
    "df = pandas.DataFrame(generate_graph(1).json()['parts'])\n",
    "\n",
    "# # Create a function to display the table interactively\n",
    "def display_table(sort_column):\n",
    "    display(df.sort_values(by=sort_column))\n",
    "\n",
    "# Create a dropdown widget for column selection\n",
    "dropdown = widgets.Dropdown(\n",
    "    options=list(df.columns),\n",
    "    description='Sort by:',\n",
    "    disabled=False\n",
    ")\n",
    "\n",
    "# Create an interactive output for the table\n",
    "interactive_output = widgets.interactive_output(display_table, {'sort_column': dropdown})\n",
    "\n",
    "# Custom CSS to style the table\n",
    "css = \"\"\"\n",
    ".output_area {\n",
    "    width: 100% !important;\n",
    "    margin: 0 auto !important;\n",
    "}\n",
    "\"\"\"\n",
    "\n",
    "# Display the custom CSS and the dropdown with interactive output\n",
    "display(HTML(f\"<style>{css}</style>\"))\n",
    "display(dropdown, interactive_output)"
   ],
   "metadata": {
    "ExecuteTime": {
     "end_time": "2023-12-09T01:38:54.702975400Z",
     "start_time": "2023-12-09T01:38:54.078864900Z"
    }
   },
   "id": "59e7962b-4eb6-4776-9937-0c247c02f1c8"
  },
  {
   "cell_type": "code",
   "execution_count": null,
   "outputs": [],
   "source": [],
   "metadata": {
    "collapsed": false
   },
   "id": "abcf67dd5f514a87"
  }
 ],
 "metadata": {
  "kernelspec": {
   "display_name": "Python 3 (ipykernel)",
   "language": "python",
   "name": "python3"
  },
  "language_info": {
   "codemirror_mode": {
    "name": "ipython",
    "version": 3
   },
   "file_extension": ".py",
   "mimetype": "text/x-python",
   "name": "python",
   "nbconvert_exporter": "python",
   "pygments_lexer": "ipython3",
   "version": "3.12.0"
  }
 },
 "nbformat": 4,
 "nbformat_minor": 5
}
