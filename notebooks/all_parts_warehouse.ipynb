{
 "cells": [
  {
   "cell_type": "code",
   "execution_count": 1,
   "id": "59e7962b-4eb6-4776-9937-0c247c02f1c8",
   "metadata": {
    "ExecuteTime": {
     "end_time": "2023-12-09T01:38:54.702975400Z",
     "start_time": "2023-12-09T01:38:54.078864900Z"
    }
   },
   "outputs": [
    {
     "data": {
      "text/html": [
       "<style>\n",
       ".output_area {\n",
       "    width: 100% !important;\n",
       "    margin: 0 auto !important;\n",
       "}\n",
       "</style>"
      ],
      "text/plain": [
       "<IPython.core.display.HTML object>"
      ]
     },
     "metadata": {},
     "output_type": "display_data"
    },
    {
     "data": {
      "application/vnd.jupyter.widget-view+json": {
       "model_id": "121794f502674d62bcf313b929bf4056",
       "version_major": 2,
       "version_minor": 0
      },
      "text/plain": [
       "Dropdown(description='Sort by:', options=('id', 'name', 'price', 'rid', 'type'), value='id')"
      ]
     },
     "metadata": {},
     "output_type": "display_data"
    },
    {
     "data": {
      "application/vnd.jupyter.widget-view+json": {
       "model_id": "b1159a6939c04f53a34de7db4106b254",
       "version_major": 2,
       "version_minor": 0
      },
      "text/plain": [
       "Output()"
      ]
     },
     "metadata": {},
     "output_type": "display_data"
    }
   ],
   "source": [
    "import requests\n",
    "from IPython.display import display, HTML\n",
    "import pandas\n",
    "import ipywidgets as widgets\\\n",
    "\n",
    "def run(wid):\n",
    "\n",
    "    def generate_graph(wid):\n",
    "        # Query Route\n",
    "        flask_url = f\"http://127.0.0.1:5000/database-delinquents/parts/warehouse/{wid}\"\n",
    "        response = requests.get(flask_url)\n",
    "        return response\n",
    "\n",
    "    # Create a DataFrame from the parts list\n",
    "    df = pandas.DataFrame(generate_graph(wid).json()['parts'])\n",
    "\n",
    "    # Create a function to display the table interactively\n",
    "    def display_table(sort_column):\n",
    "        display(df.sort_values(by=sort_column))\n",
    "\n",
    "    # Create a dropdown widget for column selection\n",
    "    dropdown = widgets.Dropdown(\n",
    "        options=list(df.columns),\n",
    "        description='Sort by:',\n",
    "        disabled=False\n",
    "    )\n",
    "\n",
    "    # Create an interactive output for the table\n",
    "    interactive_output = widgets.interactive_output(display_table, {'sort_column': dropdown})\n",
    "\n",
    "    # Custom CSS to style the Pandas DataFrame table\n",
    "    css = \"\"\"\n",
    "    /* Style the table */\n",
    "    table.dataframe {\n",
    "        width: 60% !important; /* Adjust table width */\n",
    "        margin: 0 auto !important;\n",
    "        font-size: 14px; /* Adjust font size */\n",
    "        border-collapse: collapse;\n",
    "        border: 2px solid #444; /* Change border color */\n",
    "    }\n",
    "\n",
    "    /* Style the header */\n",
    "    table.dataframe th {\n",
    "        background-color: #f2f2f2; /* Change header background color */\n",
    "        border: 1px solid #444; /* Change header border color */\n",
    "    }\n",
    "\n",
    "    /* Style the cells */\n",
    "    table.dataframe td, table.dataframe th {\n",
    "        border: 1px solid black; /* Change cell border color */\n",
    "        padding: 8px; /* Adjust cell padding as needed */\n",
    "    }\n",
    "    \"\"\"\n",
    "\n",
    "    # Display the custom CSS and the dropdown with interactive output\n",
    "    display(HTML(f\"<style>{css}</style>\"))\n",
    "    display(dropdown, interactive_output)"
   ]
  },
  {
   "cell_type": "code",
   "execution_count": null,
   "id": "abcf67dd5f514a87",
   "metadata": {
    "collapsed": false
   },
   "outputs": [],
   "source": []
  }
 ],
 "metadata": {
  "kernelspec": {
   "display_name": "Python 3 (ipykernel)",
   "language": "python",
   "name": "python3"
  },
  "language_info": {
   "codemirror_mode": {
    "name": "ipython",
    "version": 3
   },
   "file_extension": ".py",
   "mimetype": "text/x-python",
   "name": "python",
   "nbconvert_exporter": "python",
   "pygments_lexer": "ipython3",
   "version": "3.12.0"
  }
 },
 "nbformat": 4,
 "nbformat_minor": 5
}
