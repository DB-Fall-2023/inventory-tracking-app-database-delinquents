{
 "cells": [
  {
   "cell_type": "markdown",
   "source": [
    "<h1>All parts in warehouse</h1>"
   ],
   "metadata": {
    "collapsed": false
   },
   "id": "39b3b2804b1dfe64"
  },
  {
   "cell_type": "code",
   "execution_count": 3,
   "outputs": [
    {
     "data": {
      "text/plain": "<IPython.core.display.HTML object>",
      "text/html": "<style>\n.output_area {\n    width: 100% !important;\n    margin: 0 auto !important;\n}\n</style>"
     },
     "metadata": {},
     "output_type": "display_data"
    },
    {
     "data": {
      "text/plain": "Dropdown(description='Sort by:', options=('id', 'name', 'price', 'rid', 'type'), value='id')",
      "application/vnd.jupyter.widget-view+json": {
       "version_major": 2,
       "version_minor": 0,
       "model_id": "89f845d3da6f4662b9ba32b952623eca"
      }
     },
     "metadata": {},
     "output_type": "display_data"
    },
    {
     "data": {
      "text/plain": "Output()",
      "application/vnd.jupyter.widget-view+json": {
       "version_major": 2,
       "version_minor": 0,
       "model_id": "9165cef5a4eb4e41bdc0ee8b921e7379"
      }
     },
     "metadata": {},
     "output_type": "display_data"
    }
   ],
   "source": [
    "import requests\n",
    "from IPython.display import display, HTML\n",
    "import pandas\n",
    "import ipywidgets as widgets\n",
    "\n",
    "def generate_graph(wid):\n",
    "    # Query Route\n",
    "    flask_url = f\"http://127.0.0.1:5000/database-delinquents/parts/warehouse/{wid}\"\n",
    "    response = requests.get(flask_url)\n",
    "    return response\n",
    "\n",
    "# Create a DataFrame from the parts list\n",
    "df = pandas.DataFrame(generate_graph(1).json()['parts'])\n",
    "\n",
    "# # Create a function to display the table interactively\n",
    "def display_table(sort_column):\n",
    "    display(df.sort_values(by=sort_column))\n",
    "\n",
    "# Create a dropdown widget for column selection\n",
    "dropdown = widgets.Dropdown(\n",
    "    options=list(df.columns),\n",
    "    description='Sort by:',\n",
    "    disabled=False\n",
    ")\n",
    "\n",
    "# Create an interactive output for the table\n",
    "interactive_output = widgets.interactive_output(display_table, {'sort_column': dropdown})\n",
    "\n",
    "# Custom CSS to style the table\n",
    "css = \"\"\"\n",
    ".output_area {\n",
    "    width: 100% !important;\n",
    "    margin: 0 auto !important;\n",
    "}\n",
    "\"\"\"\n",
    "\n",
    "# Display the custom CSS and the dropdown with interactive output\n",
    "display(HTML(f\"<style>{css}</style>\"))\n",
    "display(dropdown, interactive_output)"
   ],
   "metadata": {
    "ExecuteTime": {
     "end_time": "2023-12-09T01:09:19.676411100Z",
     "start_time": "2023-12-09T01:09:18.982897100Z"
    }
   },
   "id": "59e7962b-4eb6-4776-9937-0c247c02f1c8"
  },
  {
   "cell_type": "code",
   "execution_count": null,
   "outputs": [],
   "source": [],
   "metadata": {
    "collapsed": false
   },
   "id": "abcf67dd5f514a87"
  }
 ],
 "metadata": {
  "kernelspec": {
   "display_name": "Python 3 (ipykernel)",
   "language": "python",
   "name": "python3"
  },
  "language_info": {
   "codemirror_mode": {
    "name": "ipython",
    "version": 3
   },
   "file_extension": ".py",
   "mimetype": "text/x-python",
   "name": "python",
   "nbconvert_exporter": "python",
   "pygments_lexer": "ipython3",
   "version": "3.12.0"
  }
 },
 "nbformat": 4,
 "nbformat_minor": 5
}
