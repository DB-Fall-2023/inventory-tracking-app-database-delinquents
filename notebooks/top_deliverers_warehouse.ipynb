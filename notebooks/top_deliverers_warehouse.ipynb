{
 "cells": [
  {
   "cell_type": "code",
   "execution_count": 1,
   "metadata": {
    "ExecuteTime": {
     "end_time": "2023-12-09T21:10:45.105723500Z",
     "start_time": "2023-12-09T21:10:45.047178700Z"
    }
   },
   "outputs": [],
   "source": [
    "import requests\n",
    "from IPython.display import display, HTML"
   ]
  },
  {
   "cell_type": "code",
   "execution_count": 2,
   "metadata": {
    "ExecuteTime": {
     "end_time": "2023-12-09T21:54:15.817719100Z",
     "start_time": "2023-12-09T21:54:15.233503800Z"
    }
   },
   "outputs": [],
   "source": [
    "def run():    \n",
    "    def get_items():\n",
    "        flask_url = f\"http://127.0.0.1:5000/database-delinquents/most/deliver\"\n",
    "        response = requests.get(flask_url)\n",
    "        return response\n",
    "\n",
    "    def generate_box(info, num):\n",
    "        box_html = f'''\n",
    "            <div style=\"border: 1px solid black; padding: 10px; margin: 10px; display: inline-block; justify-content: center;\">\n",
    "                <h3>Top #{num}, Warehouse Id: {info['wid']}</h3>\n",
    "                <p>Total Deliveries: {info['total_deliveries']}</p>\n",
    "                <p>Name: {info['wname']}</p>\n",
    "                <p>City: {info['wcity']}</p>\n",
    "                <p>Country: {info['wcountry']}</p>\n",
    "                <p>Budget: {info['wbudget']}</p>\n",
    "            </div>\n",
    "        '''\n",
    "        return box_html\n",
    "\n",
    "    data = get_items().json()\n",
    "\n",
    "    boxes_html = ''.join([generate_box(data[i], i+1) for i in range(5)])\n",
    "\n",
    "    # Display the boxes centered horizontally\n",
    "    content_html = f'<div style=\"display: flex; justify-content: center;\">{boxes_html}</div>'\n",
    "    display(HTML(content_html))\n"
   ]
  }
 ],
 "metadata": {
  "kernelspec": {
   "display_name": "DBFall-project",
   "language": "python",
   "name": "python3"
  },
  "language_info": {
   "codemirror_mode": {
    "name": "ipython",
    "version": 3
   },
   "file_extension": ".py",
   "mimetype": "text/x-python",
   "name": "python",
   "nbconvert_exporter": "python",
   "pygments_lexer": "ipython3",
   "version": "3.12.1"
  }
 },
 "nbformat": 4,
 "nbformat_minor": 2
}
