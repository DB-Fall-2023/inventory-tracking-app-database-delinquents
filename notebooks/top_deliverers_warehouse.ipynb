{
 "cells": [
  {
   "cell_type": "code",
   "execution_count": 1,
   "metadata": {
    "ExecuteTime": {
     "end_time": "2023-12-09T21:10:45.105723500Z",
     "start_time": "2023-12-09T21:10:45.047178700Z"
    }
   },
   "outputs": [],
   "source": [
    "import requests\n",
    "from IPython.display import display, HTML"
   ]
  },
  {
   "cell_type": "code",
   "execution_count": 2,
   "metadata": {
    "ExecuteTime": {
     "end_time": "2023-12-09T21:54:15.817719100Z",
     "start_time": "2023-12-09T21:54:15.233503800Z"
    }
   },
   "outputs": [
    {
     "data": {
      "text/html": [
       "<div style=\"display: flex; justify-content: center;\">\n",
       "            <div style=\"border: 1px solid black; padding: 10px; margin: 10px; display: inline-block; justify-content: center;\">\n",
       "                <h3>Top #1, Warehouse Id: 1</h3>\n",
       "                <p>Total Deliveries: 2</p>\n",
       "                <p>Name: sucursal</p>\n",
       "                <p>City: Maya</p>\n",
       "                <p>Country: PR</p>\n",
       "                <p>Budget: 75539.0</p>\n",
       "            </div>\n",
       "        \n",
       "            <div style=\"border: 1px solid black; padding: 10px; margin: 10px; display: inline-block; justify-content: center;\">\n",
       "                <h3>Top #2, Warehouse Id: 2</h3>\n",
       "                <p>Total Deliveries: 14</p>\n",
       "                <p>Name: sucursal2</p>\n",
       "                <p>City: Maya</p>\n",
       "                <p>Country: PR</p>\n",
       "                <p>Budget: 2000000.0</p>\n",
       "            </div>\n",
       "        \n",
       "            <div style=\"border: 1px solid black; padding: 10px; margin: 10px; display: inline-block; justify-content: center;\">\n",
       "                <h3>Top #3, Warehouse Id: 5</h3>\n",
       "                <p>Total Deliveries: 1</p>\n",
       "                <p>Name: Almacen</p>\n",
       "                <p>City: Florida</p>\n",
       "                <p>Country: PR</p>\n",
       "                <p>Budget: 45000.0</p>\n",
       "            </div>\n",
       "        \n",
       "            <div style=\"border: 1px solid black; padding: 10px; margin: 10px; display: inline-block; justify-content: center;\">\n",
       "                <h3>Top #4, Warehouse Id: 6</h3>\n",
       "                <p>Total Deliveries: 1</p>\n",
       "                <p>Name: HomeRV</p>\n",
       "                <p>City: Cali</p>\n",
       "                <p>Country: Colombia</p>\n",
       "                <p>Budget: 80000.0</p>\n",
       "            </div>\n",
       "        \n",
       "            <div style=\"border: 1px solid black; padding: 10px; margin: 10px; display: inline-block; justify-content: center;\">\n",
       "                <h3>Top #5, Warehouse Id: 7</h3>\n",
       "                <p>Total Deliveries: 1</p>\n",
       "                <p>Name: Guarda</p>\n",
       "                <p>City: Humacao</p>\n",
       "                <p>Country: PR</p>\n",
       "                <p>Budget: 1000000.0</p>\n",
       "            </div>\n",
       "        </div>"
      ],
      "text/plain": [
       "<IPython.core.display.HTML object>"
      ]
     },
     "metadata": {},
     "output_type": "display_data"
    }
   ],
   "source": [
    "i=1\n",
    "def get_items():\n",
    "    flask_url = f\"https://data-delinquents-db-9edf072e759e.herokuapp.com/database-delinquents/most/deliver\"\n",
    "    response = requests.get(flask_url)\n",
    "    return response\n",
    "\n",
    "def run():\n",
    "    data = get_items().json()\n",
    "    def generate_box(info):\n",
    "        global i\n",
    "        box_html = f'''\n",
    "            <div style=\"border: 1px solid black; padding: 10px; margin: 10px; display: inline-block; justify-content: center;\">\n",
    "                <h3>Top #{i}, Warehouse Id: {info['wid']}</h3>\n",
    "                <p>Total Deliveries: {info['total_deliveries']}</p>\n",
    "                <p>Name: {info['wname']}</p>\n",
    "                <p>City: {info['wcity']}</p>\n",
    "                <p>Country: {info['wcountry']}</p>\n",
    "                <p>Budget: {info['wbudget']}</p>\n",
    "            </div>\n",
    "        '''\n",
    "        i+=1\n",
    "        return box_html\n",
    "\n",
    "    boxes_html = ''.join([generate_box(record) for record in data])\n",
    "\n",
    "    # Display the boxes centered horizontally\n",
    "    content_html = f'<div style=\"display: flex; justify-content: center;\">{boxes_html}</div>'\n",
    "    display(HTML(content_html))\n",
    "\n",
    "# run()"
   ]
  },
  {
   "cell_type": "code",
   "execution_count": 2,
   "metadata": {
    "ExecuteTime": {
     "end_time": "2023-12-09T18:40:14.309462700Z",
     "start_time": "2023-12-09T18:40:14.282936600Z"
    }
   },
   "outputs": [],
   "source": []
  },
  {
   "cell_type": "code",
   "execution_count": 2,
   "metadata": {
    "collapsed": false
   },
   "outputs": [],
   "source": []
  }
 ],
 "metadata": {
  "kernelspec": {
   "display_name": "DBFall-project",
   "language": "python",
   "name": "python3"
  },
  "language_info": {
   "codemirror_mode": {
    "name": "ipython",
    "version": 3
   },
   "file_extension": ".py",
   "mimetype": "text/x-python",
   "name": "python",
   "nbconvert_exporter": "python",
   "pygments_lexer": "ipython3",
   "version": "3.12.1"
  }
 },
 "nbformat": 4,
 "nbformat_minor": 2
}
