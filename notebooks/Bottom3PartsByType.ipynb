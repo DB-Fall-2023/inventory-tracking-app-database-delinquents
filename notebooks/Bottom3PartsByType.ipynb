{
 "cells": [
  {
   "cell_type": "code",
   "execution_count": 12,
   "outputs": [],
   "source": [
    "import requests\n",
    "from IPython.display import display, HTML\n",
    "\n",
    "i=1"
   ],
   "metadata": {
    "collapsed": false
   }
  },
  {
   "cell_type": "code",
   "execution_count": 13,
   "outputs": [],
   "source": [
    "def get_items(wid_value, uid_value):\n",
    "    flask_url = f\"http://127.0.0.1:5000/database-delinquents/warehouse/{wid_value}/rack/material\"\n",
    "    data = {\"uid\": uid_value}\n",
    "    response = requests.post(flask_url, json=data)\n",
    "    return response"
   ],
   "metadata": {
    "collapsed": false
   }
  },
  {
   "cell_type": "code",
   "execution_count": 14,
   "outputs": [
    {
     "data": {
      "text/plain": "<IPython.core.display.HTML object>",
      "text/html": "<div style=\"display: flex; justify-content: center;\">\n        <div style=\"border: 1px solid black; padding: 10px; margin: 10px; display: inline-block; text-align: left;\">\n            <h3>Bottom Part #1</h3>\n            <p>pid: 2</p>\n            <p>Name: destornillador</p>\n            <p>Type: madera</p>\n        </div>\n        \n        <div style=\"border: 1px solid black; padding: 10px; margin: 10px; display: inline-block; text-align: left;\">\n            <h3>Bottom Part #2</h3>\n            <p>pid: 4</p>\n            <p>Name: plancha</p>\n            <p>Type: madera</p>\n        </div>\n        \n        <div style=\"border: 1px solid black; padding: 10px; margin: 10px; display: inline-block; text-align: left;\">\n            <h3>Bottom Part #3</h3>\n            <p>pid: 3</p>\n            <p>Name: tornillo</p>\n            <p>Type: metal</p>\n        </div>\n        </div>"
     },
     "metadata": {},
     "output_type": "display_data"
    }
   ],
   "source": [
    "def run(wid, uid):\n",
    "    data = get_items(wid, uid).json()['Bottom3PartsByType']\n",
    "\n",
    "    def generate_box(data):\n",
    "        global i\n",
    "        box_html = f'''\n",
    "        <div style=\"border: 1px solid black; padding: 10px; margin: 10px; display: inline-block; text-align: left;\">\n",
    "            <h3>Bottom Part #{i}</h3>\n",
    "            <p>pid: {data['pid']}</p>\n",
    "            <p>Name: {data['pname']}</p>\n",
    "            <p>Type: {data['ptype']}</p>\n",
    "        </div>\n",
    "        '''\n",
    "        i+=1\n",
    "        return box_html\n",
    "\n",
    "    boxes_html = ''.join([generate_box(record) for record in data])\n",
    "\n",
    "    # Display the boxes centered horizontally\n",
    "    content_html = f'<div style=\"display: flex; justify-content: center;\">{boxes_html}</div>'\n",
    "    display(HTML(content_html))\n"
   ],
   "metadata": {
    "collapsed": false
   }
  }
 ],
 "metadata": {
  "kernelspec": {
   "display_name": "Python 3",
   "language": "python",
   "name": "python3"
  },
  "language_info": {
   "codemirror_mode": {
    "name": "ipython",
    "version": 2
   },
   "file_extension": ".py",
   "mimetype": "text/x-python",
   "name": "python",
   "nbconvert_exporter": "python",
   "pygments_lexer": "ipython2",
   "version": "2.7.6"
  }
 },
 "nbformat": 4,
 "nbformat_minor": 0
}
