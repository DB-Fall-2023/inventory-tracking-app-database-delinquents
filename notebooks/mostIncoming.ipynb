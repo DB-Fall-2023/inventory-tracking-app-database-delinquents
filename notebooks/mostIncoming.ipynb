{
 "cells": [
  {
   "cell_type": "code",
   "execution_count": 1,
   "id": "initial_id",
   "metadata": {
    "collapsed": true,
    "ExecuteTime": {
     "end_time": "2023-12-08T22:37:46.756701700Z",
     "start_time": "2023-12-08T22:37:46.679466Z"
    }
   },
   "outputs": [
    {
     "data": {
      "text/plain": "<IPython.core.display.HTML object>",
      "text/html": "\n    <div style=\"background-color: #5b7bd4; font-family: Roboto; color: black; padding: 10px; text-align: center;\">\n        <h2 style=\"margin: 0; display: flex; flex-direction: column; align-items: center;\">Top 5 Warehouses with the Most Incoming Transactions</h2>\n    </div>\n"
     },
     "metadata": {},
     "output_type": "display_data"
    }
   ],
   "source": [
    "import requests\n",
    "from IPython.display import display, HTML\n",
    "\n",
    "title_box = '''\n",
    "    <div style=\"background-color: #5b7bd4; font-family: Roboto; color: black; padding: 10px; text-align: center;\">\n",
    "        <h2 style=\"margin: 0; display: flex; flex-direction: column; align-items: center;\">Top 5 Warehouses with the Most Incoming Transactions</h2>\n",
    "    </div>\n",
    "'''\n",
    "\n",
    "display(HTML(title_box))"
   ]
  },
  {
   "cell_type": "code",
   "execution_count": 6,
   "outputs": [
    {
     "data": {
      "text/plain": "<IPython.core.display.HTML object>",
      "text/html": "<div style=\"display: flex; justify-content: center;\">\n        <div style=\"border: 1px solid black; padding: 10px; margin: 10px; display: inline-block; justify-content: center;\">\n            <h3>WarehouseID: 1</h3>\n            <p>Name: sucursal</p>\n            <p>Total Incoming Transactions: 13</p>\n        </div>\n    \n        <div style=\"border: 1px solid black; padding: 10px; margin: 10px; display: inline-block; justify-content: center;\">\n            <h3>WarehouseID: 3</h3>\n            <p>Name: Costco</p>\n            <p>Total Incoming Transactions: 8</p>\n        </div>\n    \n        <div style=\"border: 1px solid black; padding: 10px; margin: 10px; display: inline-block; justify-content: center;\">\n            <h3>WarehouseID: 6</h3>\n            <p>Name: HomeRV</p>\n            <p>Total Incoming Transactions: 2</p>\n        </div>\n    \n        <div style=\"border: 1px solid black; padding: 10px; margin: 10px; display: inline-block; justify-content: center;\">\n            <h3>WarehouseID: 11</h3>\n            <p>Name: Costco</p>\n            <p>Total Incoming Transactions: 2</p>\n        </div>\n    \n        <div style=\"border: 1px solid black; padding: 10px; margin: 10px; display: inline-block; justify-content: center;\">\n            <h3>WarehouseID: 2</h3>\n            <p>Name: sucursal2</p>\n            <p>Total Incoming Transactions: 1</p>\n        </div>\n    </div>"
     },
     "metadata": {},
     "output_type": "display_data"
    }
   ],
   "source": [
    "def get_top_warehouses_most_incoming():\n",
    "    flask_url = \"http://127.0.0.1:5000/database-delinquents/most/incoming\"\n",
    "    response = requests.get(flask_url)\n",
    "    return response\n",
    "\n",
    "def generate_box(info, num):\n",
    "    box_html = f'''\n",
    "        <div style=\"border: 1px solid black; padding: 10px; margin: 10px; display: inline-block; justify-content: center;\">\n",
    "            <h3>WarehouseID: {info.get('wid', 'N/A')}</h3>\n",
    "            <p>Name: {info.get('wname', 'N/A')}</p>\n",
    "            <p>Total Incoming Transactions: {info.get('incoming_count', 'N/A')}</p>\n",
    "        </div>\n",
    "    '''\n",
    "    return box_html\n",
    "\n",
    "\n",
    "data = get_top_warehouses_most_incoming().json()\n",
    "\n",
    "\n",
    "if 'TopWarehouses' in data:\n",
    "    warehouses_data = data['TopWarehouses']\n",
    "    \n",
    "    boxes_html = ''.join([generate_box(warehouses_data[i], i+1) for i in range(len(warehouses_data))])\n",
    "\n",
    "    content_html = f'<div style=\"display: flex; justify-content: center;\">{boxes_html}</div>'\n",
    "    display(HTML(content_html))\n",
    "    \n",
    "else:\n",
    "    print(\"Unexpected response format:\", data)\n",
    "    "
   ],
   "metadata": {
    "collapsed": false,
    "ExecuteTime": {
     "end_time": "2023-12-08T23:19:08.392737300Z",
     "start_time": "2023-12-08T23:19:07.815465100Z"
    }
   },
   "id": "b8f5a1f95fefe12c"
  },
  {
   "cell_type": "code",
   "execution_count": null,
   "outputs": [],
   "source": [],
   "metadata": {
    "collapsed": false
   },
   "id": "aa25d80977287ada"
  }
 ],
 "metadata": {
  "kernelspec": {
   "display_name": "Python 3",
   "language": "python",
   "name": "python3"
  },
  "language_info": {
   "codemirror_mode": {
    "name": "ipython",
    "version": 2
   },
   "file_extension": ".py",
   "mimetype": "text/x-python",
   "name": "python",
   "nbconvert_exporter": "python",
   "pygments_lexer": "ipython2",
   "version": "2.7.6"
  }
 },
 "nbformat": 4,
 "nbformat_minor": 5
}
