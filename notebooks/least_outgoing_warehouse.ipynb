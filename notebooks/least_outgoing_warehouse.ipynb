{
 "cells": [
  {
   "cell_type": "code",
   "execution_count": 1,
   "metadata": {
    "ExecuteTime": {
     "end_time": "2023-12-09T21:41:52.604320Z",
     "start_time": "2023-12-09T21:41:52.536336800Z"
    }
   },
   "outputs": [],
   "source": [
    "import requests\n",
    "from IPython.display import display, HTML"
   ]
  },
  {
   "cell_type": "code",
   "execution_count": 5,
   "metadata": {
    "ExecuteTime": {
     "end_time": "2023-12-09T21:48:50.798366Z",
     "start_time": "2023-12-09T21:48:50.786749600Z"
    }
   },
   "outputs": [
    {
     "data": {
      "text/plain": "<IPython.core.display.HTML object>",
      "text/html": "\n    <div style=\"background-color: #65b89b; font-family: Roboto; color: white; padding: 10px; text-align: center;\">\n        <h2 style=\"margin: 0; display: flex; flex-direction: column; align-items: center;\">Top Warehouses With the Least Outgoing Transactions</h2>\n    </div>\n"
     },
     "metadata": {},
     "output_type": "display_data"
    }
   ],
   "source": [
    "import requests\n",
    "from IPython.display import display, HTML\n",
    "\n",
    "# HTML for the title box\n",
    "title_box_html = '''\n",
    "    <div style=\"background-color: #65b89b; font-family: Roboto; color: white; padding: 10px; text-align: center;\">\n",
    "        <h2 style=\"margin: 0; display: flex; flex-direction: column; align-items: center;\">Top Warehouses With the Least Outgoing Transactions</h2>\n",
    "    </div>\n",
    "'''\n",
    "\n",
    "display(HTML(title_box_html))"
   ]
  },
  {
   "cell_type": "code",
   "execution_count": 4,
   "metadata": {
    "ExecuteTime": {
     "end_time": "2023-12-09T21:42:29.599941Z",
     "start_time": "2023-12-09T21:42:29.037852800Z"
    }
   },
   "outputs": [
    {
     "data": {
      "text/plain": "<IPython.core.display.HTML object>",
      "text/html": "<div style=\"display: flex; justify-content: center;\">\n        <div style=\"border: 1px solid black; padding: 10px; margin: 10px; display: inline-block; justify-content: center;\">\n            <h3>Top #1, Warehouse Id: 2</h3>\n            <p>Total Outgoing: 1</p>\n            <p>Name: sucursal2</p>\n            <p>City: Maya</p>\n            <p>Country: PR</p>\n            <p>Budget: 2000000.0</p>\n        </div>\n    \n        <div style=\"border: 1px solid black; padding: 10px; margin: 10px; display: inline-block; justify-content: center;\">\n            <h3>Top #2, Warehouse Id: 3</h3>\n            <p>Total Outgoing: 3</p>\n            <p>Name: Costco</p>\n            <p>City: San Juan</p>\n            <p>Country: PR</p>\n            <p>Budget: 299057.25</p>\n        </div>\n    \n        <div style=\"border: 1px solid black; padding: 10px; margin: 10px; display: inline-block; justify-content: center;\">\n            <h3>Top #3, Warehouse Id: 5</h3>\n            <p>Total Outgoing: 3</p>\n            <p>Name: Shell</p>\n            <p>City: Miami</p>\n            <p>Country: USA</p>\n            <p>Budget: 1200000.0</p>\n        </div>\n    </div>"
     },
     "metadata": {},
     "output_type": "display_data"
    }
   ],
   "source": [
    "def get_items():\n",
    "    flask_url = f\"http://127.0.0.1:5000/database-delinquents/least/outgoing\"\n",
    "    response = requests.get(flask_url)\n",
    "    return response\n",
    "\n",
    "def generate_box(info, num):\n",
    "    box_html = f'''\n",
    "        <div style=\"border: 1px solid black; padding: 10px; margin: 10px; display: inline-block; justify-content: center;\">\n",
    "            <h3>Top #{num}, Warehouse Id: {info['wid']}</h3>\n",
    "            <p>Total Outgoing: {info['outgoing_transactions']}</p>\n",
    "            <p>Name: {info['wname']}</p>\n",
    "            <p>City: {info['wcity']}</p>\n",
    "            <p>Country: {info['wcountry']}</p>\n",
    "            <p>Budget: {info['wbudget']}</p>\n",
    "        </div>\n",
    "    '''\n",
    "    return box_html\n",
    "\n",
    "data = get_items().json()\n",
    "\n",
    "boxes_html = ''.join([generate_box(data[i], i+1) for i in range(3)])\n",
    "\n",
    "# Display the boxes centered horizontally\n",
    "content_html = f'<div style=\"display: flex; justify-content: center;\">{boxes_html}</div>'\n",
    "display(HTML(content_html))\n"
   ]
  },
  {
   "cell_type": "code",
   "execution_count": null,
   "metadata": {
    "ExecuteTime": {
     "end_time": "2023-12-09T21:41:53.382848700Z",
     "start_time": "2023-12-09T21:41:53.378848900Z"
    }
   },
   "outputs": [],
   "source": []
  },
  {
   "cell_type": "code",
   "execution_count": null,
   "outputs": [],
   "source": [],
   "metadata": {
    "collapsed": false,
    "ExecuteTime": {
     "start_time": "2023-12-09T21:41:53.380350500Z"
    }
   }
  }
 ],
 "metadata": {
  "kernelspec": {
   "display_name": "DBFall-project",
   "language": "python",
   "name": "python3"
  },
  "language_info": {
   "codemirror_mode": {
    "name": "ipython",
    "version": 3
   },
   "file_extension": ".py",
   "mimetype": "text/x-python",
   "name": "python",
   "nbconvert_exporter": "python",
   "pygments_lexer": "ipython3",
   "version": "3.12.0"
  }
 },
 "nbformat": 4,
 "nbformat_minor": 2
}
