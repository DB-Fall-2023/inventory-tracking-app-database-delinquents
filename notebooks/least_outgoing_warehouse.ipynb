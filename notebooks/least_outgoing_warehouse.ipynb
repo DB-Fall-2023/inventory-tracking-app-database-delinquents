{
 "cells": [
  {
   "cell_type": "code",
   "execution_count": 1,
   "metadata": {
    "ExecuteTime": {
     "end_time": "2023-12-09T21:48:50.798366Z",
     "start_time": "2023-12-09T21:48:50.786749600Z"
    }
   },
   "outputs": [],
   "source": [
    "import requests\n",
    "from IPython.display import display, HTML"
   ]
  },
  {
   "cell_type": "code",
   "execution_count": 4,
   "metadata": {
    "ExecuteTime": {
     "end_time": "2023-12-09T21:42:29.599941Z",
     "start_time": "2023-12-09T21:42:29.037852800Z"
    }
   },
   "outputs": [
    {
     "data": {
      "text/html": [
       "<div style=\"display: flex; justify-content: center;\">\n",
       "        <div style=\"border: 1px solid black; padding: 10px; margin: 10px; display: inline-block; justify-content: center;\">\n",
       "            <h3>Top #1, Warehouse Id: 2</h3>\n",
       "            <p>Total Outgoing: 1</p>\n",
       "            <p>Name: sucursal2</p>\n",
       "            <p>City: Maya</p>\n",
       "            <p>Country: PR</p>\n",
       "            <p>Budget: 2000000.0</p>\n",
       "        </div>\n",
       "    \n",
       "        <div style=\"border: 1px solid black; padding: 10px; margin: 10px; display: inline-block; justify-content: center;\">\n",
       "            <h3>Top #2, Warehouse Id: 3</h3>\n",
       "            <p>Total Outgoing: 3</p>\n",
       "            <p>Name: Costco</p>\n",
       "            <p>City: San Juan</p>\n",
       "            <p>Country: PR</p>\n",
       "            <p>Budget: 299057.25</p>\n",
       "        </div>\n",
       "    \n",
       "        <div style=\"border: 1px solid black; padding: 10px; margin: 10px; display: inline-block; justify-content: center;\">\n",
       "            <h3>Top #3, Warehouse Id: 5</h3>\n",
       "            <p>Total Outgoing: 3</p>\n",
       "            <p>Name: Shell</p>\n",
       "            <p>City: Miami</p>\n",
       "            <p>Country: USA</p>\n",
       "            <p>Budget: 1200000.0</p>\n",
       "        </div>\n",
       "    </div>"
      ],
      "text/plain": [
       "<IPython.core.display.HTML object>"
      ]
     },
     "metadata": {},
     "output_type": "display_data"
    }
   ],
   "source": [
    "def run():\n",
    "    def get_items():\n",
    "        flask_url = f\"http://127.0.0.1:5000/database-delinquents/least/outgoing\"\n",
    "        response = requests.get(flask_url)\n",
    "        return response\n",
    "\n",
    "    def generate_box(info, num):\n",
    "        box_html = f'''\n",
    "            <div style=\"border: 1px solid black; padding: 10px; margin: 10px; display: inline-block; justify-content: center;\">\n",
    "                <h3>Top #{num}, Warehouse Id: {info['wid']}</h3>\n",
    "                <p>Total Outgoing: {info['outgoing_transactions']}</p>\n",
    "                <p>Name: {info['wname']}</p>\n",
    "                <p>City: {info['wcity']}</p>\n",
    "                <p>Country: {info['wcountry']}</p>\n",
    "                <p>Budget: {info['wbudget']}</p>\n",
    "            </div>\n",
    "        '''\n",
    "        return box_html\n",
    "\n",
    "    data = get_items().json()\n",
    "\n",
    "    boxes_html = ''.join([generate_box(data[i], i+1) for i in range(3)])\n",
    "\n",
    "    # Display the boxes centered horizontally\n",
    "    content_html = f'<div style=\"display: flex; justify-content: center;\">{boxes_html}</div>'\n",
    "    display(HTML(content_html))\n"
   ]
  },
  {
   "cell_type": "code",
   "execution_count": null,
   "metadata": {
    "ExecuteTime": {
     "end_time": "2023-12-09T21:41:53.382848700Z",
     "start_time": "2023-12-09T21:41:53.378848900Z"
    }
   },
   "outputs": [],
   "source": []
  },
  {
   "cell_type": "code",
   "execution_count": null,
   "metadata": {
    "ExecuteTime": {
     "start_time": "2023-12-09T21:41:53.380350500Z"
    },
    "collapsed": false
   },
   "outputs": [],
   "source": []
  }
 ],
 "metadata": {
  "kernelspec": {
   "display_name": "DBFall-project",
   "language": "python",
   "name": "python3"
  },
  "language_info": {
   "codemirror_mode": {
    "name": "ipython",
    "version": 3
   },
   "file_extension": ".py",
   "mimetype": "text/x-python",
   "name": "python",
   "nbconvert_exporter": "python",
   "pygments_lexer": "ipython3",
   "version": "3.12.1"
  }
 },
 "nbformat": 4,
 "nbformat_minor": 2
}
