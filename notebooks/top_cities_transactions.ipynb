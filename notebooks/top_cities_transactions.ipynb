{
 "cells": [
  {
   "cell_type": "code",
   "execution_count": 1,
   "metadata": {
    "ExecuteTime": {
     "end_time": "2023-12-09T21:50:51.264229200Z",
     "start_time": "2023-12-09T21:50:51.202174900Z"
    }
   },
   "outputs": [],
   "source": [
    "import requests\n",
    "from IPython.display import display, HTML"
   ]
  },
  {
   "cell_type": "code",
   "execution_count": 2,
   "metadata": {
    "ExecuteTime": {
     "end_time": "2023-12-09T21:52:10.889348400Z",
     "start_time": "2023-12-09T21:52:10.314887800Z"
    }
   },
   "outputs": [
    {
     "data": {
      "text/plain": "<IPython.core.display.HTML object>",
      "text/html": "<div style=\"display: flex; justify-content: center;\">\n        <div style=\"border: 1px solid black; padding: 10px; margin: 10px; display: inline-block; justify-content: center;\">\n            <h3>Top #1, City: Maya</h3>\n            <p>Total transactions: 70</p>\n        </div>\n    \n        <div style=\"border: 1px solid black; padding: 10px; margin: 10px; display: inline-block; justify-content: center;\">\n            <h3>Top #2, City: San Juan</h3>\n            <p>Total transactions: 27</p>\n        </div>\n    \n        <div style=\"border: 1px solid black; padding: 10px; margin: 10px; display: inline-block; justify-content: center;\">\n            <h3>Top #3, City: Cali</h3>\n            <p>Total transactions: 7</p>\n        </div>\n    </div>"
     },
     "metadata": {},
     "output_type": "display_data"
    }
   ],
   "source": [
    "i=1\n",
    "def get_items():\n",
    "    flask_url = f\"http://127.0.0.1:5000/database-delinquents/most/city\"\n",
    "    response = requests.get(flask_url)\n",
    "    return response\n",
    "\n",
    "def generate_box(info):\n",
    "    global i\n",
    "    box_html = f'''\n",
    "        <div style=\"border: 1px solid black; padding: 10px; margin: 10px; display: inline-block; justify-content: center;\">\n",
    "            <h3>Top #{i}, City: {info['wcity']}</h3>\n",
    "            <p>Total transactions: {info['total_transactions']}</p>\n",
    "        </div>\n",
    "    '''\n",
    "    i+=1\n",
    "    return box_html\n",
    "\n",
    "def run():\n",
    "    data = get_items().json()\n",
    "    boxes_html = ''.join([generate_box(record) for record in data])\n",
    "    # Display the boxes centered horizontally\n",
    "    content_html = f'<div style=\"display: flex; justify-content: center;\">{boxes_html}</div>'\n",
    "    display(HTML(content_html))\n",
    "\n",
    "# run()"
   ]
  },
  {
   "cell_type": "code",
   "execution_count": 8,
   "metadata": {
    "ExecuteTime": {
     "end_time": "2023-12-09T18:40:14.309462700Z",
     "start_time": "2023-12-09T18:40:14.282936600Z"
    }
   },
   "outputs": [],
   "source": []
  },
  {
   "cell_type": "code",
   "execution_count": 8,
   "outputs": [],
   "source": [],
   "metadata": {
    "collapsed": false
   },
   "outputs": [],
   "source": []
  }
 ],
 "metadata": {
  "kernelspec": {
   "display_name": "DBFall-project",
   "language": "python",
   "name": "python3"
  },
  "language_info": {
   "codemirror_mode": {
    "name": "ipython",
    "version": 3
   },
   "file_extension": ".py",
   "mimetype": "text/x-python",
   "name": "python",
   "nbconvert_exporter": "python",
   "pygments_lexer": "ipython3",
   "version": "3.12.1"
  }
 },
 "nbformat": 4,
 "nbformat_minor": 2
}
