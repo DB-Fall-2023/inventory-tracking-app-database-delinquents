{
 "cells": [
  {
   "cell_type": "code",
   "execution_count": 4,
   "metadata": {
    "ExecuteTime": {
     "end_time": "2023-12-09T21:10:45.105723500Z",
     "start_time": "2023-12-09T21:10:45.047178700Z"
    }
   },
   "outputs": [],
   "source": [
    "import requests\n",
    "from IPython.display import display, HTML"
   ]
  },
  {
   "cell_type": "code",
   "execution_count": 1,
   "metadata": {
    "ExecuteTime": {
     "end_time": "2023-12-09T21:50:51.264229200Z",
     "start_time": "2023-12-09T21:50:51.202174900Z"
    }
   },
   "outputs": [
    {
     "data": {
      "text/plain": "<IPython.core.display.HTML object>",
      "text/html": "\n    <div style=\"background-color: #65b89b; font-family: Roboto; color: white; padding: 10px; text-align: center;\">\n        <h2 style=\"margin: 0; display: flex; flex-direction: column; align-items: center;\">Top Warehouse Cities With the Most Transactions</h2>\n    </div>\n"
     },
     "metadata": {},
     "output_type": "display_data"
    }
   ],
   "source": [
    "import requests\n",
    "from IPython.display import display, HTML\n",
    "\n",
    "# HTML for the title box\n",
    "title_box_html = '''\n",
    "    <div style=\"background-color: #65b89b; font-family: Roboto; color: white; padding: 10px; text-align: center;\">\n",
    "        <h2 style=\"margin: 0; display: flex; flex-direction: column; align-items: center;\">Top Warehouse Cities With the Most Transactions</h2>\n",
    "    </div>\n",
    "'''\n",
    "\n",
    "display(HTML(title_box_html))"
   ]
  },
  {
   "cell_type": "code",
   "execution_count": 2,
   "metadata": {
    "ExecuteTime": {
     "end_time": "2023-12-09T21:52:10.889348400Z",
     "start_time": "2023-12-09T21:52:10.314887800Z"
    }
   },
   "outputs": [
    {
     "data": {
      "text/plain": "<IPython.core.display.HTML object>",
      "text/html": "<div style=\"display: flex; justify-content: center;\">\n        <div style=\"border: 1px solid black; padding: 10px; margin: 10px; display: inline-block; justify-content: center;\">\n            <h3>Top #1, City: Maya</h3>\n            <p>Total transactions: 32</p>\n        </div>\n    \n        <div style=\"border: 1px solid black; padding: 10px; margin: 10px; display: inline-block; justify-content: center;\">\n            <h3>Top #2, City: San Juan</h3>\n            <p>Total transactions: 14</p>\n        </div>\n    \n        <div style=\"border: 1px solid black; padding: 10px; margin: 10px; display: inline-block; justify-content: center;\">\n            <h3>Top #3, City: Cali</h3>\n            <p>Total transactions: 7</p>\n        </div>\n    </div>"
     },
     "metadata": {},
     "output_type": "display_data"
    }
   ],
   "source": [
    "def get_items():\n",
    "    flask_url = f\"http://127.0.0.1:5000/database-delinquents/most/city\"\n",
    "    response = requests.get(flask_url)\n",
    "    return response\n",
    "\n",
    "def generate_box(info, num):\n",
    "    box_html = f'''\n",
    "        <div style=\"border: 1px solid black; padding: 10px; margin: 10px; display: inline-block; justify-content: center;\">\n",
    "            <h3>Top #{num}, City: {info['wcity']}</h3>\n",
    "            <p>Total transactions: {info['total_transactions']}</p>\n",
    "        </div>\n",
    "    '''\n",
    "    return box_html\n",
    "\n",
    "data = get_items().json()\n",
    "\n",
    "boxes_html = ''.join([generate_box(data[i], i+1) for i in range(3)])\n",
    "\n",
    "# Display the boxes centered horizontally\n",
    "content_html = f'<div style=\"display: flex; justify-content: center;\">{boxes_html}</div>'\n",
    "display(HTML(content_html))\n"
   ]
  },
  {
   "cell_type": "code",
   "execution_count": 2,
   "metadata": {
    "ExecuteTime": {
     "end_time": "2023-12-09T18:40:14.309462700Z",
     "start_time": "2023-12-09T18:40:14.282936600Z"
    }
   },
   "outputs": [],
   "source": []
  },
  {
   "cell_type": "code",
   "execution_count": null,
   "outputs": [],
   "source": [],
   "metadata": {
    "collapsed": false
   }
  }
 ],
 "metadata": {
  "kernelspec": {
   "display_name": "DBFall-project",
   "language": "python",
   "name": "python3"
  },
  "language_info": {
   "codemirror_mode": {
    "name": "ipython",
    "version": 3
   },
   "file_extension": ".py",
   "mimetype": "text/x-python",
   "name": "python",
   "nbconvert_exporter": "python",
   "pygments_lexer": "ipython3",
   "version": "3.12.0"
  }
 },
 "nbformat": 4,
 "nbformat_minor": 2
}
