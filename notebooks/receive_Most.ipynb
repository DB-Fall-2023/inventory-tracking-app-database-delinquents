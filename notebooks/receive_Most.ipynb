{
 "cells": [
  {
   "cell_type": "code",
   "execution_count": 1,
   "metadata": {},
   "outputs": [],
   "source": [
    "import requests\n",
    "from IPython.display import display, HTML"
   ]
  },
  {
   "cell_type": "code",
   "execution_count": null,
   "metadata": {},
   "outputs": [],
   "source": [
    "\n",
    "def get_top_users_most_exchanges(wid_value, uid_value):\n",
    "    flask_url = f\"https://data-delinquents-db-9edf072e759e.herokuapp.com/database-delinquents/warehouse/{wid_value}/users/receivesmost\"\n",
    "    data = {\"uid\": uid_value}\n",
    "    response = requests.post(flask_url, json=data)\n",
    "    return response\n",
    "\n",
    "def generate_box(info):\n",
    "    box_html = f'''\n",
    "        <div style=\"border: 1px solid black; padding: 10px; margin: 10px; display: inline-block; justify-content: center;\">\n",
    "            <h3>User Id: {info['uid']}</h3>\n",
    "            <p>Total Exchanges Received: {info['exchangecount']}</p>\n",
    "        </div>\n",
    "    '''\n",
    "    return box_html\n",
    "\n",
    "def run(wid, uid):\n",
    "    data = get_top_users_most_exchanges(wid, uid).json()\n",
    "    boxes_html = ''\n",
    "\n",
    "    if 'TopUsers' in data:\n",
    "        users_data = data['TopUsers']\n",
    "        boxes_html = ''.join([generate_box(record) for record in users_data])\n",
    "\n",
    "    content_html = f'<div style=\"display: flex; justify-content: center;\">{boxes_html}</div>'\n",
    "    display(HTML(content_html))\n",
    "\n",
    "    if not boxes_html:\n",
    "        print(\"Unexpected response format:\", data)\n",
    "\n",
    "# run(1,1)"
   ]
  }
 ],
 "metadata": {
  "kernelspec": {
   "display_name": "DBFall-project",
   "language": "python",
   "name": "python3"
  },
  "language_info": {
   "codemirror_mode": {
    "name": "ipython",
    "version": 3
   },
   "file_extension": ".py",
   "mimetype": "text/x-python",
   "name": "python",
   "nbconvert_exporter": "python",
   "pygments_lexer": "ipython3",
   "version": "3.12.1"
  }
 },
 "nbformat": 4,
 "nbformat_minor": 2
}
