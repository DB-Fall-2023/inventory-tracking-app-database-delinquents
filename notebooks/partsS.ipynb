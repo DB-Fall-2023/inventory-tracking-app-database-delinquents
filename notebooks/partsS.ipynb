{
 "cells": [
  {
   "cell_type": "code",
   "execution_count": 1,
   "metadata": {},
   "outputs": [],
   "source": [
    "import requests\n",
    "from IPython.display import display, HTML\n",
    "import pandas as pd\n",
    "import ipywidgets as widgets\n"
   ]
  },
  {
   "cell_type": "code",
   "execution_count": 2,
   "metadata": {},
   "outputs": [],
   "source": [
    "def get_items(sid):\n",
    "    flask_url = f\"http://127.0.0.1:5000/database-delinquents/supplier/{sid}/parts\"\n",
    "    response = requests.get(flask_url)\n",
    "    return response"
   ]
  },
  {
   "cell_type": "code",
   "execution_count": 3,
   "metadata": {},
   "outputs": [],
   "source": [
    "def run(sid):    \n",
    "# Create a DataFrame from the parts list\n",
    "    df = pd.DataFrame(get_items(sid).json()['parts'])\n",
    "\n",
    "    # Create a function to display the table interactively\n",
    "    def display_table(sort_column):\n",
    "        display(df.sort_values(by=sort_column))\n",
    "\n",
    "    # Create a dropdown widget for column selection\n",
    "    dropdown = widgets.Dropdown(\n",
    "        options=list(df.columns),\n",
    "        description='Sort by:',\n",
    "        disabled=False\n",
    "    )\n",
    "\n",
    "    # Create an interactive output for the table\n",
    "    interactive_output = widgets.interactive_output(display_table, {'sort_column': dropdown})\n",
    "\n",
    "    # Custom CSS to style the Pandas DataFrame table\n",
    "    css = \"\"\"\n",
    "    /* Style the table */\n",
    "    table.dataframe {\n",
    "        width: 60% !important; /* Adjust table width */\n",
    "        margin: 0 auto !important;\n",
    "        font-size: 14px; /* Adjust font size */\n",
    "        border-collapse: collapse;\n",
    "        border: 2px solid #444; /* Change border color */\n",
    "    }\n",
    "\n",
    "    /* Style the header */\n",
    "    table.dataframe th {\n",
    "        background-color: #f2f2f2; /* Change header background color */\n",
    "        border: 1px solid #444; /* Change header border color */\n",
    "    }\n",
    "\n",
    "    /* Style the cells */\n",
    "    table.dataframe td, table.dataframe th {\n",
    "        border: 1px solid black; /* Change cell border color */\n",
    "        padding: 8px; /* Adjust cell padding as needed */\n",
    "    }\n",
    "    \"\"\"\n",
    "\n",
    "    # Display the custom CSS and the dropdown with interactive output\n",
    "    display(HTML(f\"<style>{css}</style>\"))\n",
    "    display(dropdown, interactive_output)"
   ]
  }
 ],
 "metadata": {
  "kernelspec": {
   "display_name": "DBFall-project",
   "language": "python",
   "name": "python3"
  },
  "language_info": {
   "codemirror_mode": {
    "name": "ipython",
    "version": 3
   },
   "file_extension": ".py",
   "mimetype": "text/x-python",
   "name": "python",
   "nbconvert_exporter": "python",
   "pygments_lexer": "ipython3",
   "version": "3.12.0"
  }
 },
 "nbformat": 4,
 "nbformat_minor": 2
}
