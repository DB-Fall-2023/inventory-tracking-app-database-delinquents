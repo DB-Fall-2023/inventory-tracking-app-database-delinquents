{
 "cells": [
  {
   "cell_type": "code",
   "execution_count": 13,
   "metadata": {},
   "outputs": [],
   "source": [
    "import requests\n",
    "from IPython.display import display, HTML\n",
    "import pandas as pd\n",
    "import ipywidgets as widgets\n"
   ]
  },
  {
   "cell_type": "code",
   "execution_count": 7,
   "metadata": {},
   "outputs": [
    {
     "data": {
      "text/html": [
       "\n",
       "        <div style=\"background-color: green; padding: 20px; text-align: center; font-family: Roboto;\">\n",
       "            <h1>Parts that the Supplier Supplies</h1>\n",
       "        </div>\n",
       "    "
      ],
      "text/plain": [
       "<IPython.core.display.HTML object>"
      ]
     },
     "metadata": {},
     "output_type": "display_data"
    }
   ],
   "source": [
    "def generate_title_box(title):\n",
    "    title_box_html = f'''\n",
    "        <div style=\"background-color: green; padding: 20px; text-align: center; font-family: Roboto;\">\n",
    "            <h1>{title}</h1>\n",
    "        </div>\n",
    "    '''\n",
    "    return title_box_html\n",
    "\n",
    "title = \"Parts that the Supplier Supplies\"\n",
    "display(HTML(generate_title_box(title)))\n"
   ]
  },
  {
   "cell_type": "code",
   "execution_count": 10,
   "metadata": {},
   "outputs": [],
   "source": [
    "def get_items(sid):\n",
    "    flask_url = f\"http://127.0.0.1:5000/database-delinquents/supplier/{sid}/parts\"\n",
    "    response = requests.get(flask_url)\n",
    "    return response"
   ]
  },
  {
   "cell_type": "code",
   "execution_count": 15,
   "metadata": {},
   "outputs": [
    {
     "data": {
      "text/html": [
       "<style>\n",
       ".output_area {\n",
       "    width: 70% !important;\n",
       "    margin: 0 auto !important;\n",
       "}\n",
       "</style>"
      ],
      "text/plain": [
       "<IPython.core.display.HTML object>"
      ]
     },
     "metadata": {},
     "output_type": "display_data"
    },
    {
     "data": {
      "application/vnd.jupyter.widget-view+json": {
       "model_id": "feeb3f586a9445cc8a4479506b3d4e9b",
       "version_major": 2,
       "version_minor": 0
      },
      "text/plain": [
       "Dropdown(description='Sort by:', options=('id', 'name', 'price', 'stock', 'type'), value='id')"
      ]
     },
     "metadata": {},
     "output_type": "display_data"
    },
    {
     "data": {
      "application/vnd.jupyter.widget-view+json": {
       "model_id": "d30551c38a1c45a98c79ad0a0b4c750f",
       "version_major": 2,
       "version_minor": 0
      },
      "text/plain": [
       "Output()"
      ]
     },
     "metadata": {},
     "output_type": "display_data"
    }
   ],
   "source": [
    "# Create a DataFrame from the parts list\n",
    "df = pd.DataFrame(get_items(1).json()['parts'])\n",
    "\n",
    "# Create a function to display the table interactively\n",
    "def display_table(sort_column):\n",
    "    display(df.sort_values(by=sort_column))\n",
    "\n",
    "# Create a dropdown widget for column selection\n",
    "dropdown = widgets.Dropdown(\n",
    "    options=list(df.columns),\n",
    "    description='Sort by:',\n",
    "    disabled=False\n",
    ")\n",
    "\n",
    "# Create an interactive output for the table\n",
    "interactive_output = widgets.interactive_output(display_table, {'sort_column': dropdown})\n",
    "\n",
    "# Custom CSS to style the table\n",
    "css = \"\"\"\n",
    ".output_area {\n",
    "    width: 70% !important;\n",
    "    margin: 0 auto !important;\n",
    "}\n",
    "\"\"\"\n",
    "\n",
    "# Display the custom CSS and the dropdown with interactive output\n",
    "display(HTML(f\"<style>{css}</style>\"))\n",
    "display(dropdown, interactive_output)"
   ]
  },
  {
   "cell_type": "code",
   "execution_count": null,
   "metadata": {},
   "outputs": [],
   "source": []
  }
 ],
 "metadata": {
  "kernelspec": {
   "display_name": "DBFall-project",
   "language": "python",
   "name": "python3"
  },
  "language_info": {
   "codemirror_mode": {
    "name": "ipython",
    "version": 3
   },
   "file_extension": ".py",
   "mimetype": "text/x-python",
   "name": "python",
   "nbconvert_exporter": "python",
   "pygments_lexer": "ipython3",
   "version": "3.12.0"
  }
 },
 "nbformat": 4,
 "nbformat_minor": 2
}
