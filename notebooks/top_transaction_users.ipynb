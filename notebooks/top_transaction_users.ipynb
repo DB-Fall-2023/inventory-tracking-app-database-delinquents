{
 "cells": [
  {
   "cell_type": "code",
   "execution_count": 1,
   "metadata": {
    "ExecuteTime": {
     "end_time": "2023-12-09T21:35:55.320041600Z",
     "start_time": "2023-12-09T21:35:55.306815500Z"
    }
   },
   "outputs": [],
   "source": [
    "import requests\n",
    "from IPython.display import display, HTML"
   ]
  },
  {
   "cell_type": "code",
   "execution_count": 3,
   "metadata": {
    "ExecuteTime": {
     "end_time": "2023-12-09T21:36:24.979590Z",
     "start_time": "2023-12-09T21:36:24.412949700Z"
    }
   },
   "outputs": [
    {
     "data": {
      "text/html": [
       "<div style=\"display: flex; justify-content: center;\">\n",
       "        <div style=\"border: 1px solid black; padding: 10px; margin: 10px; display: inline-block; justify-content: center;\">\n",
       "            <h3>Top #1, User Id: 1</h3>\n",
       "            <p>Total Transactions: 22</p>\n",
       "            <p>First Name: Dayana2</p>\n",
       "            <p>Last Name: Gupta</p>\n",
       "            <p>City: Buenos Aires</p>\n",
       "            <p>Country: Argentina</p>\n",
       "            <p>E-mail: isabella.gupta@example.com</p>\n",
       "            <p>Phone number: 7778889999</p>\n",
       "        </div>\n",
       "    \n",
       "        <div style=\"border: 1px solid black; padding: 10px; margin: 10px; display: inline-block; justify-content: center;\">\n",
       "            <h3>Top #2, User Id: 3</h3>\n",
       "            <p>Total Transactions: 19</p>\n",
       "            <p>First Name: Pedro</p>\n",
       "            <p>Last Name: Navaja</p>\n",
       "            <p>City: San Juan</p>\n",
       "            <p>Country: PR</p>\n",
       "            <p>E-mail: pena@db.com</p>\n",
       "            <p>Phone number: 9394445555</p>\n",
       "        </div>\n",
       "    \n",
       "        <div style=\"border: 1px solid black; padding: 10px; margin: 10px; display: inline-block; justify-content: center;\">\n",
       "            <h3>Top #3, User Id: 14</h3>\n",
       "            <p>Total Transactions: 7</p>\n",
       "            <p>First Name: Olivia</p>\n",
       "            <p>Last Name: Garcia</p>\n",
       "            <p>City: Mumbai</p>\n",
       "            <p>Country: India</p>\n",
       "            <p>E-mail: olivia.garcia@example.com</p>\n",
       "            <p>Phone number: 8901234567</p>\n",
       "        </div>\n",
       "    </div>"
      ],
      "text/plain": [
       "<IPython.core.display.HTML object>"
      ]
     },
     "metadata": {},
     "output_type": "display_data"
    }
   ],
   "source": [
    "def run():    \n",
    "    def get_items():\n",
    "        flask_url = f\"http://127.0.0.1:5000/database-delinquents/most/transactions\"\n",
    "        response = requests.get(flask_url)\n",
    "        return response\n",
    "\n",
    "    def generate_box(info, num):\n",
    "        box_html = f'''\n",
    "            <div style=\"border: 1px solid black; padding: 10px; margin: 10px; display: inline-block; justify-content: center;\">\n",
    "                <h3>Top #{num}, User Id: {info['uid']}</h3>\n",
    "                <p>Total Transactions: {info['total_transactions']}</p>\n",
    "                <p>First Name: {info['uname']}</p>\n",
    "                <p>Last Name: {info['ulastname']}</p>\n",
    "                <p>City: {info['ucity']}</p>\n",
    "                <p>Country: {info['ucountry']}</p>\n",
    "                <p>E-mail: {info['uemail']}</p>\n",
    "                <p>Phone number: {info['uphone']}</p>\n",
    "            </div>\n",
    "        '''\n",
    "        return box_html\n",
    "\n",
    "    data = get_items().json()\n",
    "\n",
    "    boxes_html = ''.join([generate_box(data[i], i+1) for i in range(3)])\n",
    "\n",
    "    # Display the boxes centered horizontally\n",
    "    content_html = f'<div style=\"display: flex; justify-content: center;\">{boxes_html}</div>'\n",
    "    display(HTML(content_html))\n"
   ]
  },
  {
   "cell_type": "code",
   "execution_count": 6,
   "metadata": {
    "ExecuteTime": {
     "end_time": "2023-12-09T21:35:55.886198400Z",
     "start_time": "2023-12-09T21:35:55.880818300Z"
    }
   },
   "outputs": [],
   "source": []
  },
  {
   "cell_type": "code",
   "execution_count": 6,
   "metadata": {
    "ExecuteTime": {
     "end_time": "2023-12-09T21:35:55.886198400Z",
     "start_time": "2023-12-09T21:35:55.882830600Z"
    },
    "collapsed": false
   },
   "outputs": [],
   "source": []
  }
 ],
 "metadata": {
  "kernelspec": {
   "display_name": "DBFall-project",
   "language": "python",
   "name": "python3"
  },
  "language_info": {
   "codemirror_mode": {
    "name": "ipython",
    "version": 3
   },
   "file_extension": ".py",
   "mimetype": "text/x-python",
   "name": "python",
   "nbconvert_exporter": "python",
   "pygments_lexer": "ipython3",
   "version": "3.12.1"
  }
 },
 "nbformat": 4,
 "nbformat_minor": 2
}
