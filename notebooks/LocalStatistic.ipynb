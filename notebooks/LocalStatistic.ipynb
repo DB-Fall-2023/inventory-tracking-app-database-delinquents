{
 "cells": [
  {
   "cell_type": "code",
   "execution_count": null,
   "metadata": {},
   "outputs": [
    {
     "data": {
      "application/vnd.jupyter.widget-view+json": {
       "model_id": "00c4718019604649a90ab3a83814470e",
       "version_major": 2,
       "version_minor": 0
      },
      "text/plain": [
       "HBox(children=(IntText(value=0, description='User ID:', style=DescriptionStyle(description_width='initial')),)…"
      ]
     },
     "metadata": {},
     "output_type": "display_data"
    },
    {
     "data": {
      "application/vnd.jupyter.widget-view+json": {
       "model_id": "81374475a24a4d4e9367dffd168faba8",
       "version_major": 2,
       "version_minor": 0
      },
      "text/plain": [
       "HBox(children=(IntText(value=0, description='Warehouse ID:', style=DescriptionStyle(description_width='initial…"
      ]
     },
     "metadata": {},
     "output_type": "display_data"
    },
    {
     "data": {
      "application/vnd.jupyter.widget-view+json": {
       "model_id": "a3fb440547684f37a7f46460d0187836",
       "version_major": 2,
       "version_minor": 0
      },
      "text/plain": [
       "HBox(children=(Button(description='Log In', style=ButtonStyle()),))"
      ]
     },
     "metadata": {},
     "output_type": "display_data"
    },
    {
     "data": {
      "application/vnd.jupyter.widget-view+json": {
       "model_id": "bcd6dcf836e147fc9160a35258b6b289",
       "version_major": 2,
       "version_minor": 0
      },
      "text/plain": [
       "HBox(children=(Button(description='Rack_Expensive', style=ButtonStyle()),))"
      ]
     },
     "metadata": {},
     "output_type": "display_data"
    },
    {
     "data": {
      "application/vnd.jupyter.widget-view+json": {
       "model_id": "5e505cabc84c4eadb415223749028e02",
       "version_major": 2,
       "version_minor": 0
      },
      "text/plain": [
       "HBox(children=(Button(description='Supplier', style=ButtonStyle()),))"
      ]
     },
     "metadata": {},
     "output_type": "display_data"
    },
    {
     "data": {
      "application/vnd.jupyter.widget-view+json": {
       "model_id": "a110744b660a49d09f9fd6749e1d552d",
       "version_major": 2,
       "version_minor": 0
      },
      "text/plain": [
       "HBox(children=(Output(),))"
      ]
     },
     "metadata": {},
     "output_type": "display_data"
    }
   ],
   "source": [
    "from IPython.display import display, HTML, clear_output\n",
    "import ipywidgets as widgets\n",
    "\n",
    "# Create input text widgets and a log-in button\n",
    "user_id = widgets.IntText(description='User ID:', style={'description_width': 'initial'})\n",
    "warehouse_id = widgets.IntText(description='Warehouse ID:', style={'description_width': 'initial'})\n",
    "Leastcost = widgets.Button(description='Log In')\n",
    "Rack_Expensive = widgets.Button(description='Rack_Expensive')\n",
    "Supplier = widgets.Button(description='Supplier')\n",
    "\n",
    "\n",
    "output = widgets.Output()\n",
    "\n",
    "# Function to handle the log-in button click event\n",
    "def Leastcost_clicked(b):\n",
    "    with output:\n",
    "        output.clear_output()\n",
    "        %run C:\\Users\\raula\\OneDrive\\Documents\\GitHub\\inventory-tracking-app-database-delinquents\\notebooks\\Leascost.ipynb\n",
    "        run(warehouse_id.value, user_id.value)\n",
    "\n",
    "def Rack_Expensive_clicked(b):\n",
    "    with output:\n",
    "        output.clear_output()\n",
    "        %run C:\\Users\\raula\\OneDrive\\Documents\\GitHub\\inventory-tracking-app-database-delinquents\\notebooks\\Rack_Expensive.ipynb\n",
    "\n",
    "def Supplier_clicked(b):\n",
    "    with output:\n",
    "        output.clear_output()\n",
    "        %run C:\\Users\\raula\\OneDrive\\Documents\\GitHub\\inventory-tracking-app-database-delinquents\\notebooks\\Suppliers_to_Wh.ipynb\n",
    "\n",
    "# Attaching the click event to the log-in button\n",
    "Leastcost.on_click(Leastcost_clicked)\n",
    "Rack_Expensive.on_click(Rack_Expensive_clicked)\n",
    "Supplier.on_click(Supplier_clicked)\n",
    "\n",
    "# Displaying the widgets initially\n",
    "display(widgets.HBox([user_id]))\n",
    "display(widgets.HBox([warehouse_id]))\n",
    "display(widgets.HBox([Leastcost]))\n",
    "display(widgets.HBox([Rack_Expensive]))\n",
    "display(widgets.HBox([Supplier]))\n",
    "display(widgets.HBox([output]))\n"
   ]
  },
  {
   "cell_type": "code",
   "execution_count": null,
   "metadata": {},
   "outputs": [],
   "source": []
  },
  {
   "cell_type": "code",
   "execution_count": null,
   "metadata": {},
   "outputs": [],
   "source": []
  },
  {
   "cell_type": "code",
   "execution_count": null,
   "metadata": {},
   "outputs": [],
   "source": []
  }
 ],
 "metadata": {
  "kernelspec": {
   "display_name": "DBFall-project",
   "language": "python",
   "name": "python3"
  },
  "language_info": {
   "codemirror_mode": {
    "name": "ipython",
    "version": 3
   },
   "file_extension": ".py",
   "mimetype": "text/x-python",
   "name": "python",
   "nbconvert_exporter": "python",
   "pygments_lexer": "ipython3",
   "version": "3.12.0"
  }
 },
 "nbformat": 4,
 "nbformat_minor": 2
}
