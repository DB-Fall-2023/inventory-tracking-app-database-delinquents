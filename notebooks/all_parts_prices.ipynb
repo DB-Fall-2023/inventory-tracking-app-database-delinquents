{
 "cells": [
  {
   "cell_type": "code",
   "execution_count": 1,
   "id": "e77ce4cd-97a9-4007-b094-33786ca10a71",
   "metadata": {
    "ExecuteTime": {
     "end_time": "2023-12-09T01:39:05.261616800Z",
     "start_time": "2023-12-09T01:39:04.835590200Z"
    }
   },
   "outputs": [],
   "source": [
    "import matplotlib.pyplot as plt\n",
    "import requests\n",
    "\n",
    "def generate_graph():\n",
    "    # Query Route\n",
    "    flask_url = 'https://data-delinquents-db-9edf072e759e.herokuapp.com/database-delinquents/part'\n",
    "    response = requests.get(flask_url)\n",
    "    data = response.json()['parts']\n",
    "        \n",
    "    # Assign input variables    \n",
    "    x = ['('+str(str(entry['id'])+')'+', '+entry['name']) for entry in data]\n",
    "    y = [entry['price'] for entry in data]\n",
    "    \n",
    "    # Plotting the bar graph\n",
    "    plt.figure(figsize=(20, 6))\n",
    "    plt.bar(x, y)\n",
    "    plt.xlabel('Parts')\n",
    "    plt.ylabel('Prices')\n",
    "    #plt.title('Price of Each Part')\n",
    "    plt.xticks(rotation=30)  # Rotate x-axis labels for better readability\n",
    "\n",
    "    plot_html_str = f'<div style=\"display: flex; justify-content: center;\"><img src=\"data:image/png;base64,{plot_to_html(plt)}\" /></div>'\n",
    "    \n",
    "    # Display the plot\n",
    "    display(HTML(plot_html_str))\n",
    "\n",
    "# Function to convert the plot to HTML\n",
    "def plot_to_html(plot):\n",
    "    from io import BytesIO\n",
    "    import base64\n",
    "\n",
    "    # Save the plot to a BytesIO object\n",
    "    buf = BytesIO()\n",
    "    plot.savefig(buf, format='png')\n",
    "    buf.seek(0)\n",
    "    \n",
    "    # Encode the plot in base64\n",
    "    plot_base64 = base64.b64encode(buf.read()).decode('utf-8')\n",
    "    \n",
    "    return plot_base64   "
   ]
  },
  {
   "cell_type": "code",
   "execution_count": null,
   "id": "cc6e68c7",
   "metadata": {},
   "outputs": [],
   "source": []
  }
 ],
 "metadata": {
  "kernelspec": {
   "display_name": "Python 3 (ipykernel)",
   "language": "python",
   "name": "python3"
  },
  "language_info": {
   "codemirror_mode": {
    "name": "ipython",
    "version": 3
   },
   "file_extension": ".py",
   "mimetype": "text/x-python",
   "name": "python",
   "nbconvert_exporter": "python",
   "pygments_lexer": "ipython3",
   "version": "3.12.1"
  }
 },
 "nbformat": 4,
 "nbformat_minor": 5
}
