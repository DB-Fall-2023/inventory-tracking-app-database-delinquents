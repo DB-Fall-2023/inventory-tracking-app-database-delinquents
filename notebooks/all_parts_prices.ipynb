{
 "cells": [
  {
   "cell_type": "code",
   "execution_count": 1,
   "id": "e77ce4cd-97a9-4007-b094-33786ca10a71",
   "metadata": {
    "ExecuteTime": {
     "end_time": "2023-12-09T01:39:05.261616800Z",
     "start_time": "2023-12-09T01:39:04.835590200Z"
    }
   },
   "outputs": [],
   "source": [
    "import matplotlib.pyplot as plt\n",
    "import requests\n",
    "\n",
    "def generate_graph():\n",
    "    # Query Route\n",
    "    flask_url = 'http://127.0.0.1:5000/database-delinquents/part'\n",
    "    response = requests.get(flask_url)\n",
    "    data = response.json()['parts']\n",
    "        \n",
    "    # Assign input variables    \n",
    "    x = ['('+str(str(entry['id'])+')'+', '+entry['name']) for entry in data]\n",
    "    y = [str(entry['price']) for entry in data]\n",
    "    y.insert(0, '0')\n",
    "    x.insert(0, '0')\n",
    "    \n",
    "    # Plotting the bar graph\n",
    "    plt.figure(figsize=(20, 6))\n",
    "    plt.bar(x, y)\n",
    "    plt.xlabel('Parts')\n",
    "    plt.ylabel('Prices')\n",
    "    #plt.title('Price of Each Part')\n",
    "    plt.xticks(rotation=30)  # Rotate x-axis labels for better readability\n",
    "    plt.show()     "
   ]
  },
  {
   "cell_type": "code",
   "execution_count": null,
   "id": "cc6e68c7",
   "metadata": {},
   "outputs": [],
   "source": []
  }
 ],
 "metadata": {
  "kernelspec": {
   "display_name": "Python 3 (ipykernel)",
   "language": "python",
   "name": "python3"
  },
  "language_info": {
   "codemirror_mode": {
    "name": "ipython",
    "version": 3
   },
   "file_extension": ".py",
   "mimetype": "text/x-python",
   "name": "python",
   "nbconvert_exporter": "python",
   "pygments_lexer": "ipython3",
   "version": "3.12.1"
  }
 },
 "nbformat": 4,
 "nbformat_minor": 5
}
