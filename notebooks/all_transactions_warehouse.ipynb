{
 "cells": [
  {
   "cell_type": "markdown",
   "source": [
    "<h1>All transactions in a Warehouse</h1>"
   ],
   "metadata": {
    "collapsed": false
   },
   "id": "840fe245fec30600"
  },
  {
   "cell_type": "code",
   "execution_count": 25,
   "outputs": [
    {
     "data": {
      "text/plain": "                            date  pid  qty  tid  total               type  \\\n0  Mon, 20 Nov 2023 00:00:00 GMT    1   10  131  59.90           incoming   \n1  Sun, 19 Nov 2023 00:00:00 GMT    3  100   89   0.00  exchange-receiver   \n2  Sun, 03 Dec 2017 00:00:00 GMT    3  400   86   0.00    exchange-sender   \n3  Wed, 30 Dec 2009 00:00:00 GMT    6  100   72  28.42           outgoing   \n\n   uid  wid  \n0    1    2  \n1   14    2  \n2   14    2  \n3    7    2  ",
      "text/html": "<div>\n<style scoped>\n    .dataframe tbody tr th:only-of-type {\n        vertical-align: middle;\n    }\n\n    .dataframe tbody tr th {\n        vertical-align: top;\n    }\n\n    .dataframe thead th {\n        text-align: right;\n    }\n</style>\n<table border=\"1\" class=\"dataframe\">\n  <thead>\n    <tr style=\"text-align: right;\">\n      <th></th>\n      <th>date</th>\n      <th>pid</th>\n      <th>qty</th>\n      <th>tid</th>\n      <th>total</th>\n      <th>type</th>\n      <th>uid</th>\n      <th>wid</th>\n    </tr>\n  </thead>\n  <tbody>\n    <tr>\n      <th>0</th>\n      <td>Mon, 20 Nov 2023 00:00:00 GMT</td>\n      <td>1</td>\n      <td>10</td>\n      <td>131</td>\n      <td>59.90</td>\n      <td>incoming</td>\n      <td>1</td>\n      <td>2</td>\n    </tr>\n    <tr>\n      <th>1</th>\n      <td>Sun, 19 Nov 2023 00:00:00 GMT</td>\n      <td>3</td>\n      <td>100</td>\n      <td>89</td>\n      <td>0.00</td>\n      <td>exchange-receiver</td>\n      <td>14</td>\n      <td>2</td>\n    </tr>\n    <tr>\n      <th>2</th>\n      <td>Sun, 03 Dec 2017 00:00:00 GMT</td>\n      <td>3</td>\n      <td>400</td>\n      <td>86</td>\n      <td>0.00</td>\n      <td>exchange-sender</td>\n      <td>14</td>\n      <td>2</td>\n    </tr>\n    <tr>\n      <th>3</th>\n      <td>Wed, 30 Dec 2009 00:00:00 GMT</td>\n      <td>6</td>\n      <td>100</td>\n      <td>72</td>\n      <td>28.42</td>\n      <td>outgoing</td>\n      <td>7</td>\n      <td>2</td>\n    </tr>\n  </tbody>\n</table>\n</div>"
     },
     "metadata": {},
     "output_type": "display_data"
    }
   ],
   "source": [
    "import requests\n",
    "from IPython.display import display, HTML\n",
    "import pandas as pd\n",
    "\n",
    "def generate_graph(wid):\n",
    "    # Query Route\n",
    "    flask_url = f'http://127.0.0.1:5000/database-delinquents/transaction/warehouse/{wid}'\n",
    "    response = requests.get(flask_url)\n",
    "    return response\n",
    "\n",
    "# Fetch data and create DataFrame\n",
    "df = pd.DataFrame(generate_graph(2).json()['transactions'])\n",
    "\n",
    "display(df)\n"
   ],
   "metadata": {
    "ExecuteTime": {
     "end_time": "2023-12-09T01:10:01.844186200Z",
     "start_time": "2023-12-09T01:10:01.098941500Z"
    }
   },
   "id": "7abd5534-28da-4412-b701-e2b3827d5423"
  },
  {
   "cell_type": "code",
   "execution_count": null,
   "outputs": [],
   "source": [],
   "metadata": {
    "collapsed": false
   },
   "id": "a17086e152464ca8"
  }
 ],
 "metadata": {
  "kernelspec": {
   "display_name": "Python 3 (ipykernel)",
   "language": "python",
   "name": "python3"
  },
  "language_info": {
   "codemirror_mode": {
    "name": "ipython",
    "version": 3
   },
   "file_extension": ".py",
   "mimetype": "text/x-python",
   "name": "python",
   "nbconvert_exporter": "python",
   "pygments_lexer": "ipython3",
   "version": "3.12.0"
  }
 },
 "nbformat": 4,
 "nbformat_minor": 5
}
