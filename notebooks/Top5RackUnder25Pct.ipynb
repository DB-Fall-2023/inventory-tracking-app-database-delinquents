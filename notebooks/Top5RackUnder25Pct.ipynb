{
 "cells": [
  {
   "cell_type": "code",
   "execution_count": 27,
   "metadata": {
    "collapsed": true
   },
   "outputs": [],
   "source": [
    "import requests\n",
    "from IPython.display import display, HTML"
   ]
  },
  {
   "cell_type": "code",
   "execution_count": 29,
   "outputs": [
    {
     "data": {
      "text/plain": "<IPython.core.display.HTML object>",
      "text/html": "<div style=\"display: flex; justify-content: center;\">\n        <div style=\"border: 1px solid black; padding: 10px; margin: 10px; display: inline-block; text-align: left;\">\n            <h3>Rack Under 25 #1</h3>\n            <p>rid: 6</p>\n            <p>wid: 1</p>\n            <p>Capacity: 500</p>\n            <p>Capacity: 100</p>\n            <p>Percentage: 0.2</p>\n        </div>\n        \n        <div style=\"border: 1px solid black; padding: 10px; margin: 10px; display: inline-block; text-align: left;\">\n            <h3>Rack Under 25 #2</h3>\n            <p>rid: 4</p>\n            <p>wid: 1</p>\n            <p>Capacity: 500</p>\n            <p>Capacity: 100</p>\n            <p>Percentage: 0.2</p>\n        </div>\n        \n        <div style=\"border: 1px solid black; padding: 10px; margin: 10px; display: inline-block; text-align: left;\">\n            <h3>Rack Under 25 #3</h3>\n            <p>rid: 5</p>\n            <p>wid: 1</p>\n            <p>Capacity: 500</p>\n            <p>Capacity: 100</p>\n            <p>Percentage: 0.2</p>\n        </div>\n        \n        <div style=\"border: 1px solid black; padding: 10px; margin: 10px; display: inline-block; text-align: left;\">\n            <h3>Rack Under 25 #4</h3>\n            <p>rid: 30</p>\n            <p>wid: 1</p>\n            <p>Capacity: 500</p>\n            <p>Capacity: 100</p>\n            <p>Percentage: 0.2</p>\n        </div>\n        \n        <div style=\"border: 1px solid black; padding: 10px; margin: 10px; display: inline-block; text-align: left;\">\n            <h3>Rack Under 25 #5</h3>\n            <p>rid: 32</p>\n            <p>wid: 1</p>\n            <p>Capacity: 1000</p>\n            <p>Capacity: 200</p>\n            <p>Percentage: 0.2</p>\n        </div>\n        </div>"
     },
     "metadata": {},
     "output_type": "display_data"
    }
   ],
   "source": [
    "i=1\n",
    "def get_items(wid_value, uid_value):\n",
    "    flask_url = f\"http://127.0.0.1:5000/database-delinquents/warehouse/{wid_value}/rack/lowstock\"\n",
    "    data = {\"uid\": uid_value}\n",
    "    response = requests.post(flask_url, json=data)\n",
    "    return response\n",
    "\n",
    "def generate_box(data):\n",
    "    global i\n",
    "    box_html = f'''\n",
    "    <div style=\"border: 1px solid black; padding: 10px; margin: 10px; display: inline-block; text-align: left;\">\n",
    "        <h3>Rack Under 25 #{i}</h3>\n",
    "        <p>rid: {data['rid']}</p>\n",
    "        <p>wid: {data['wid']}</p>\n",
    "        <p>Capacity: {int(data['rcapacity'])}</p>\n",
    "        <p>Capacity: {int(data['rstock'])}</p>\n",
    "        <p>Percentage: {float(data['qtypct'])}</p>\n",
    "    </div>\n",
    "    '''\n",
    "    i+=1\n",
    "    return box_html\n",
    "\n",
    "def run(wid, uid):\n",
    "    data = get_items(wid, uid).json()['Top5RackUnder25Pct']\n",
    "    boxes_html = ''.join([generate_box(record) for record in data])\n",
    "    # Display the boxes centered horizontally\n",
    "    content_html = f'<div style=\"display: flex; justify-content: center;\">{boxes_html}</div>'\n",
    "    display(HTML(content_html))\n"
   ],
   "metadata": {
    "collapsed": false
   }
  },
  {
   "cell_type": "code",
   "execution_count": 29,
   "outputs": [],
   "source": [],
   "metadata": {
    "collapsed": false
   }
  }
 ],
 "metadata": {
  "kernelspec": {
   "display_name": "Python 3",
   "language": "python",
   "name": "python3"
  },
  "language_info": {
   "codemirror_mode": {
    "name": "ipython",
    "version": 2
   },
   "file_extension": ".py",
   "mimetype": "text/x-python",
   "name": "python",
   "nbconvert_exporter": "python",
   "pygments_lexer": "ipython2",
   "version": "2.7.6"
  }
 },
 "nbformat": 4,
 "nbformat_minor": 0
}
