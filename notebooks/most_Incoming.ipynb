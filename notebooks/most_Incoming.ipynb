{
 "cells": [
  {
   "cell_type": "code",
   "execution_count": 1,
   "metadata": {},
   "outputs": [],
   "source": [
    "import requests\n",
    "from IPython.display import display, HTML"
   ]
  },
  {
   "cell_type": "code",
   "execution_count": null,
   "metadata": {},
   "outputs": [],
   "source": [
    "   \n",
    "def get_top_warehouses_most_incoming():\n",
    "    flask_url = \"https://data-delinquents-db-9edf072e759e.herokuapp.com/database-delinquents/most/incoming\"\n",
    "    response = requests.get(flask_url)\n",
    "    return response\n",
    "\n",
    "def generate_box(info):\n",
    "    box_html = f'''\n",
    "        <div style=\"border: 1px solid black; padding: 10px; margin: 10px; display: inline-block; justify-content: center;\">\n",
    "            <h3>WarehouseID: {info.get('wid', 'N/A')}</h3>\n",
    "            <p>Name: {info.get('wname', 'N/A')}</p>\n",
    "            <p>Total Incoming Transactions: {info.get('incoming_count', 'N/A')}</p>\n",
    "        </div>\n",
    "    '''\n",
    "    return box_html\n",
    "\n",
    "def run():\n",
    "    data = get_top_warehouses_most_incoming().json()\n",
    "    if 'TopWarehouses' in data:\n",
    "        warehouses_data = data['TopWarehouses']\n",
    "        boxes_html = ''.join([generate_box(record) for record in warehouses_data])\n",
    "        content_html = f'<div style=\"display: flex; justify-content: center;\">{boxes_html}</div>'\n",
    "        display(HTML(content_html))\n",
    "\n",
    "    else:\n",
    "        print(\"Unexpected response format:\", data)"
   ]
  }
 ],
 "metadata": {
  "kernelspec": {
   "display_name": "DBFall-project",
   "language": "python",
   "name": "python3"
  },
  "language_info": {
   "codemirror_mode": {
    "name": "ipython",
    "version": 3
   },
   "file_extension": ".py",
   "mimetype": "text/x-python",
   "name": "python",
   "nbconvert_exporter": "python",
   "pygments_lexer": "ipython3",
   "version": "3.12.1"
  }
 },
 "nbformat": 4,
 "nbformat_minor": 2
}
