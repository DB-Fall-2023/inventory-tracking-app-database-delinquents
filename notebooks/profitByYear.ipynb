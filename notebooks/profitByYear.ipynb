{
 "cells": [
  {
   "cell_type": "code",
   "execution_count": 2,
   "metadata": {
    "collapsed": false
   },
   "outputs": [],
   "source": [
    "import requests\n",
    "import matplotlib.pyplot as plt\n",
    "import ipywidgets as widgets\n",
    "from IPython.display import HTML"
   ]
  },
  {
   "cell_type": "code",
   "execution_count": 3,
   "metadata": {
    "collapsed": false
   },
   "outputs": [],
   "source": [
    "def get_items(wid_value, uid_value):\n",
    "    flask_url = f\"https://data-delinquents-db-9edf072e759e.herokuapp.com/database-delinquents/warehouse/{wid_value}/profit\"\n",
    "    data = {\"uid\": uid_value}\n",
    "    response = requests.post(flask_url, json=data)\n",
    "    return response\n",
    "\n",
    "def show_plt(wid, uid):\n",
    "    items = get_items(wid, uid)\n",
    "    data = items.json()['WarehouseProfit']\n",
    "\n",
    "    profit = [record['profit'] for record in data]\n",
    "    year = [str(record['year']) for record in data]\n",
    "\n",
    "\n",
    "    # plt.rcParams.update({\n",
    "    # \"lines.color\": \"black\",\n",
    "    # \"patch.edgecolor\": \"white\",\n",
    "    # \"text.color\": \"white\",\n",
    "    # \"axes.facecolor\": \"#111111\",\n",
    "    # \"axes.edgecolor\": \"lightgray\",\n",
    "    # \"axes.labelcolor\": \"white\",\n",
    "    # \"xtick.color\": \"white\",\n",
    "    # \"ytick.color\": \"white\",\n",
    "    # \"grid.color\": \"lightgray\",\n",
    "    # \"figure.facecolor\": \"#111111\",\n",
    "    # \"figure.edgecolor\": \"black\",\n",
    "    # \"savefig.facecolor\": \"black\",\n",
    "    # \"savefig.edgecolor\": \"black\"})\n",
    "\n",
    "    plt.figure(figsize=(10, 6))\n",
    "    plt.bar(year, profit, color='skyblue')\n",
    "    # plt.plot(year, profit, color='skyblue')\n",
    "    plt.xlabel('Year', fontsize=12)\n",
    "    plt.ylabel('Profit', fontsize=12)\n",
    "    # plt.margins(0.2)\n",
    "    plt.tight_layout()\n",
    "\n",
    "    # Get the plot as an HTML string\n",
    "    plot_html_str = f'<div style=\"display: flex; justify-content: center;\"><img src=\"data:image/png;base64,{plot_to_html(plt)}\" /></div>'\n",
    "    \n",
    "    # Display the plot\n",
    "    display(HTML(plot_html_str))\n",
    "\n",
    "# Function to convert the plot to HTML\n",
    "def plot_to_html(plot):\n",
    "    from io import BytesIO\n",
    "    import base64\n",
    "\n",
    "    # Save the plot to a BytesIO object\n",
    "    buf = BytesIO()\n",
    "    plot.savefig(buf, format='png')\n",
    "    buf.seek(0)\n",
    "    \n",
    "    # Encode the plot in base64\n",
    "    plot_base64 = base64.b64encode(buf.read()).decode('utf-8')\n",
    "    \n",
    "    return plot_base64"
   ]
  },
  {
   "cell_type": "code",
   "execution_count": null,
   "metadata": {
    "collapsed": false
   },
   "outputs": [],
   "source": []
  }
 ],
 "metadata": {
  "kernelspec": {
   "display_name": "Python 3",
   "language": "python",
   "name": "python3"
  },
  "language_info": {
   "codemirror_mode": {
    "name": "ipython",
    "version": 3
   },
   "file_extension": ".py",
   "mimetype": "text/x-python",
   "name": "python",
   "nbconvert_exporter": "python",
   "pygments_lexer": "ipython3",
   "version": "3.12.1"
  }
 },
 "nbformat": 4,
 "nbformat_minor": 0
}
